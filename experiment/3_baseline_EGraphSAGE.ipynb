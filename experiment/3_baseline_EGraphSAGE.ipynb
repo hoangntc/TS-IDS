{
 "cells": [
  {
   "cell_type": "code",
   "execution_count": 1,
   "id": "1c6faa3f",
   "metadata": {},
   "outputs": [
    {
     "name": "stderr",
     "output_type": "stream",
     "text": [
      "/home/hoang/miniconda2/envs/iot/lib/python3.9/site-packages/xgboost/compat.py:36: FutureWarning: pandas.Int64Index is deprecated and will be removed from pandas in a future version. Use pandas.Index with the appropriate dtype instead.\n",
      "  from pandas import MultiIndex, Int64Index\n"
     ]
    },
    {
     "name": "stdout",
     "output_type": "stream",
     "text": [
      "PROJ_PATH=/home/hoang/github/TS-IDS\n"
     ]
    }
   ],
   "source": [
    "%load_ext autoreload\n",
    "%autoreload 2\n",
    "\n",
    "import os, sys, re, datetime, random, gzip, json, copy\n",
    "import tqdm\n",
    "import pandas as pd\n",
    "import numpy as np\n",
    "import glob\n",
    "from pathlib import Path\n",
    "from itertools import accumulate\n",
    "import argparse\n",
    "from time import time\n",
    "from math import ceil\n",
    "from collections import Counter\n",
    "import socket,struct\n",
    "import timeit\n",
    "\n",
    "import xgboost as xgb\n",
    "from sklearn.metrics import f1_score, accuracy_score, top_k_accuracy_score, roc_auc_score\n",
    "from sklearn.utils import class_weight\n",
    "from sklearn.preprocessing import LabelEncoder\n",
    "from sklearn.preprocessing import StandardScaler\n",
    "import category_encoders as ce\n",
    "\n",
    "from dgl import from_networkx\n",
    "import dgl.function as fn\n",
    "import networkx as nx\n",
    "\n",
    "PROJ_PATH = Path(os.path.join(re.sub(\"/TS-IDS.*$\", '', os.getcwd()), 'TS-IDS'))\n",
    "print(f'PROJ_PATH={PROJ_PATH}')\n",
    "sys.path.insert(1, str(PROJ_PATH))\n",
    "sys.path.insert(1, str(PROJ_PATH/'src'))\n",
    "import utils\n",
    "from utils import *\n",
    "from dataset import build_datamodule\n",
    "from trainer import build_trainer\n",
    "from model import TSIDS\n",
    "from pipeline import TSIDSPipeline\n",
    "\n",
    "from sklearn.metrics import accuracy_score, precision_score, recall_score, f1_score"
   ]
  },
  {
   "cell_type": "code",
   "execution_count": 2,
   "id": "4df0b0c8",
   "metadata": {},
   "outputs": [],
   "source": [
    "def compute_accuracy(pred, labels):\n",
    "    return (pred.argmax(1) == labels).float().mean().item()\n",
    "\n",
    "class SAGELayer(nn.Module):\n",
    "    def __init__(self, ndim_in, edims, ndim_out, activation):\n",
    "        super(SAGELayer, self).__init__()\n",
    "        ### force to outut fix dimensions\n",
    "        self.W_msg = nn.Linear(ndim_in + edims, ndim_out)\n",
    "        ### apply weight\n",
    "        self.W_apply = nn.Linear(ndim_in + ndim_out, ndim_out)\n",
    "        self.activation = activation\n",
    "\n",
    "    def message_func(self, edges):\n",
    "        return {'m': self.W_msg(torch.cat([edges.src['h'], edges.data['h']], 2))}\n",
    "\n",
    "    def forward(self, g_dgl, nfeats, efeats):\n",
    "        with g_dgl.local_scope():\n",
    "            g = g_dgl\n",
    "            g.ndata['h'] = nfeats\n",
    "            g.edata['h'] = efeats\n",
    "            # Eq4\n",
    "            g.update_all(self.message_func, fn.mean('m', 'h_neigh'))\n",
    "            # Eq5          \n",
    "            g.ndata['h'] = F.relu(self.W_apply(torch.cat([g.ndata['h'], g.ndata['h_neigh']], 2)))\n",
    "            return g.ndata['h']\n",
    "\n",
    "\n",
    "class SAGE(nn.Module):\n",
    "    def __init__(self, ndim_in, ndim_out, edim, activation, dropout):\n",
    "        super(SAGE, self).__init__()\n",
    "        self.layers = nn.ModuleList()\n",
    "        self.layers.append(SAGELayer(ndim_in, edim, 128, activation))\n",
    "        self.layers.append(SAGELayer(128, edim, ndim_out, activation))\n",
    "        self.dropout = nn.Dropout(p=dropout)\n",
    "\n",
    "    def forward(self, g, nfeats, efeats):\n",
    "        for i, layer in enumerate(self.layers):\n",
    "            if i != 0:\n",
    "                nfeats = self.dropout(nfeats)\n",
    "            nfeats = layer(g, nfeats, efeats)\n",
    "        return nfeats.sum(1)\n",
    "    \n",
    "class MLPPredictor(nn.Module):\n",
    "    def __init__(self, in_features, out_classes):\n",
    "        super().__init__()\n",
    "        self.W = nn.Linear(in_features * 2, out_classes)\n",
    "\n",
    "    def apply_edges(self, edges):\n",
    "        h_u = edges.src['h']\n",
    "        h_v = edges.dst['h']\n",
    "        score = self.W(torch.cat([h_u, h_v], 1))\n",
    "        return {'score': score}\n",
    "\n",
    "    def forward(self, graph, h):\n",
    "        with graph.local_scope():\n",
    "            graph.ndata['h'] = h\n",
    "            graph.apply_edges(self.apply_edges)\n",
    "            return graph.edata['score']\n",
    "        \n",
    "class Model(nn.Module):\n",
    "    def __init__(self, ndim_in, ndim_out, edim, n_classes, activation, dropout):\n",
    "        super().__init__()\n",
    "        self.gnn = SAGE(ndim_in, ndim_out, edim, activation, dropout)\n",
    "        self.pred = MLPPredictor(ndim_out, n_classes)\n",
    "    def forward(self, g, nfeats, efeats):\n",
    "        h = self.gnn(g, nfeats, efeats)\n",
    "        return self.pred(g, h)"
   ]
  },
  {
   "cell_type": "code",
   "execution_count": 4,
   "id": "118e8396",
   "metadata": {},
   "outputs": [],
   "source": [
    "def build_graph(scaler, encoder, X, y, cols_to_norm, cname_label):\n",
    "    X = encoder.transform(X)\n",
    "    print('Number of samples:', X.shape, y.shape)\n",
    "    print(cols_to_norm)\n",
    "    X[cols_to_norm] = scaler.transform(X[cols_to_norm])\n",
    "    X['h'] = X[cols_to_norm].values.tolist()\n",
    "    X['h'] = X['h'].apply(lambda x: torch.tensor(x))\n",
    "    \n",
    "    G = nx.from_pandas_edgelist(\n",
    "        X, \"IPV4_SRC_ADDR\", \"IPV4_DST_ADDR\", ['h', cname_label], create_using=nx.DiGraph())\n",
    "#     G = nx.from_pandas_edgelist(\n",
    "#         X, \"IPV4_SRC_ADDR\", \"IPV4_DST_ADDR\", ['h', cname_label], create_using=nx.MultiGraph())\n",
    "#     G = G.to_directed()\n",
    "    print('Convert NX graph to DGL')\n",
    "    G = from_networkx(G, edge_attrs=['h', cname_label])\n",
    "    \n",
    "    # Eq1\n",
    "    G.ndata['h'] = torch.ones(G.num_nodes(), G.edata['h'].shape[1])\n",
    "    G.edata['train_mask'] = torch.ones(len(G.edata['h']), dtype=torch.bool)\n",
    "    \n",
    "    G.ndata['h'] = torch.reshape(G.ndata['h'], (G.ndata['h'].shape[0], 1,G.ndata['h'].shape[1]))\n",
    "    G.edata['h'] = torch.reshape(G.edata['h'], (G.edata['h'].shape[0], 1,G.edata['h'].shape[1]))\n",
    "    \n",
    "    return G"
   ]
  },
  {
   "cell_type": "code",
   "execution_count": 5,
   "id": "d6856176",
   "metadata": {},
   "outputs": [],
   "source": [
    "def create_prob_df(\n",
    "    tvt_str,\n",
    "    model,\n",
    "    G,\n",
    "    node_features, \n",
    "    edge_features,\n",
    "    actual\n",
    "):\n",
    "    pred_prop = model(G, node_features, edge_features)\n",
    "    norm_pred_prop = torch.softmax(pred_prop, dim=1)\n",
    "    data_array = [pred_prop_ + [actual_, tvt_str] for pred_prop_, actual_ in zip(norm_pred_prop.tolist(), actual.tolist())]\n",
    "    cnames = [f'probs_{i}' for i in range(norm_pred_prop.shape[1])]\n",
    "    prob_df = pd.DataFrame(data_array, columns=cnames+['gts', 'tvt'])\n",
    "    return prob_df"
   ]
  },
  {
   "cell_type": "code",
   "execution_count": 6,
   "id": "a8ce5988",
   "metadata": {},
   "outputs": [],
   "source": [
    "def run_baseline(\n",
    "    ds_name,\n",
    "    g_name,\n",
    "    cname_label,\n",
    "    cname_tvt,\n",
    "    n_epochs\n",
    "):\n",
    "    \n",
    "    data = pd.read_csv(f'../datasets/{ds_name}.csv')\n",
    "    label2idx = pd.read_pickle(f'../datasets/{g_name}.pkl')['label2idx']\n",
    "    if cname_label == 'Attack':\n",
    "        data['Attack'] = data['Attack'].map(label2idx)\n",
    "        \n",
    "    ####\n",
    "    data['IPV4_SRC_ADDR'] = data.IPV4_SRC_ADDR.apply(\n",
    "        lambda x: socket.inet_ntoa(struct.pack('>I', random.randint(0xac100001, 0xac1f0001))))\n",
    "    data['IPV4_SRC_ADDR'] = data.IPV4_SRC_ADDR.apply(str)\n",
    "    data['L4_SRC_PORT'] = data.L4_SRC_PORT.apply(str)\n",
    "    data['IPV4_DST_ADDR'] = data.IPV4_DST_ADDR.apply(str)\n",
    "    data['L4_DST_PORT'] = data.L4_DST_PORT.apply(str)\n",
    "\n",
    "    data['IPV4_SRC_ADDR'] = data['IPV4_SRC_ADDR'] + ':' + data['L4_SRC_PORT']\n",
    "    data['IPV4_DST_ADDR'] = data['IPV4_DST_ADDR'] + ':' + data['L4_DST_PORT']\n",
    "\n",
    "    data.drop(columns=['L4_SRC_PORT','L4_DST_PORT'], inplace=True)\n",
    "    \n",
    "    ####\n",
    "    X_cnames = [c for c in data.columns if not c.startswith('Label_tvt') and not c.startswith('Attack_tvt')]\n",
    "    X_train, X_test, y_train, y_test = (data[data[cname_tvt]!='test'][X_cnames], \n",
    "                                        data[data[cname_tvt]=='test'][X_cnames], \n",
    "                                        data[data[cname_tvt]!='test'][cname_label], \n",
    "                                        data[data[cname_tvt]=='test'][cname_label])\n",
    "    \n",
    "    ####\n",
    "    cols_to_norm = list(set(X_train.columns) - set(['Label', 'Attack', 'IPV4_SRC_ADDR', 'IPV4_DST_ADDR']))\n",
    "    scaler = StandardScaler()\n",
    "    scaler.fit(X_train[cols_to_norm])\n",
    "    encoder = ce.TargetEncoder(cols=['TCP_FLAGS','L7_PROTO','PROTOCOL'])\n",
    "    encoder.fit(X_train, y_train)\n",
    "\n",
    "    G_train = build_graph(scaler, encoder, X_train, y_train, cols_to_norm, cname_label)\n",
    "    G_test = build_graph(scaler, encoder, X_test, y_test, cols_to_norm, cname_label)\n",
    "    \n",
    "    print('To device')\n",
    "    G_train = G_train.to(torch.device(device))\n",
    "    G_test = G_test.to(torch.device(device))\n",
    "    \n",
    "    node_features = G_train.ndata['h']\n",
    "    edge_features = G_train.edata['h']\n",
    "\n",
    "    node_features_test = G_test.ndata['h']\n",
    "    edge_features_test = G_test.edata['h']\n",
    "    \n",
    "    ####\n",
    "    ndim_in = G_train.ndata['h'].shape[2]\n",
    "    ndim_out = 128 \n",
    "    edim = G_train.ndata['h'].shape[2]\n",
    "    activation = F.relu\n",
    "    dropout = 0.2\n",
    "    n_classes = data[cname_label].nunique()\n",
    "\n",
    "    sage = SAGE(ndim_in, ndim_out, edim, activation, dropout).to(device)\n",
    "    mlp = MLPPredictor(ndim_out, 2).to(device)\n",
    "    model = Model(ndim_in, ndim_out, edim, n_classes, activation, dropout).to(device)\n",
    "    opt = torch.optim.Adam(model.parameters())\n",
    "\n",
    "    class_weights = class_weight.compute_class_weight(\n",
    "        'balanced', \n",
    "        classes=data[cname_label].unique(),\n",
    "        y=data[cname_label].values.tolist(),\n",
    "    )\n",
    "    class_weights = torch.FloatTensor(class_weights).to(device)\n",
    "    criterion = nn.CrossEntropyLoss(weight=class_weights)\n",
    "    \n",
    "    ####\n",
    "    edge_label = G_train.edata[cname_label]\n",
    "    train_mask = G_train.edata['train_mask']\n",
    "    \n",
    "    print('Start training')\n",
    "    for epoch in range(1, n_epochs+1):\n",
    "        pred = model(G_train, node_features, edge_features).to(device)\n",
    "        loss = criterion(pred[train_mask], edge_label[train_mask])\n",
    "        opt.zero_grad()\n",
    "        loss.backward()\n",
    "        opt.step()\n",
    "        if epoch % 10 == 0:\n",
    "            print(f'{epoch:04d} - Training acc:', compute_accuracy(pred[train_mask], edge_label[train_mask]))\n",
    "            \n",
    "    #### test\n",
    "    test_pred_prop = model(G_test, node_features_test, edge_features_test).to(device)\n",
    "    norm_test_pred_prop = torch.softmax(test_pred_prop, dim=1)\n",
    "    test_pred = test_pred_prop.argmax(1)\n",
    "    test_pred = torch.Tensor.cpu(test_pred).detach().numpy()\n",
    "    test_actual = G_test.edata.pop(cname_label)\n",
    "\n",
    "    #### train\n",
    "    train_pred_prop = model(G_train, node_features, edge_features).to(device)\n",
    "    train_actual = G_train.edata.pop(cname_label)\n",
    "    #### create probs df\n",
    "    train_prob_df = create_prob_df(\n",
    "        'train',\n",
    "        model,\n",
    "        G_train,\n",
    "        node_features,\n",
    "        edge_features,\n",
    "        train_actual\n",
    "    )\n",
    "    test_prob_df = create_prob_df(\n",
    "        'test',\n",
    "        model,\n",
    "        G_test,\n",
    "        node_features_test,\n",
    "        edge_features_test,\n",
    "        test_actual\n",
    "    )\n",
    "    prob_df = pd.concat([test_prob_df, train_prob_df], axis=0)\n",
    "    return prob_df"
   ]
  },
  {
   "cell_type": "markdown",
   "id": "a1a091ae",
   "metadata": {
    "heading_collapsed": true
   },
   "source": [
    "# CV"
   ]
  },
  {
   "cell_type": "code",
   "execution_count": 16,
   "id": "4a7f4c8a",
   "metadata": {
    "hidden": true
   },
   "outputs": [],
   "source": [
    "ds_name2shrtname = {\n",
    "    'NF-BoT-IoT_cv': 'nf_bot',\n",
    "    'NF-ToN-IoT_cv': 'nf_ton',\n",
    "    'NF-CSE-CIC-IDS2018-v2_cv': 'nf_cse', \n",
    "    'NF-UNSW-NB15-v2_cv': 'nf_unsw',\n",
    "}"
   ]
  },
  {
   "cell_type": "code",
   "execution_count": 17,
   "id": "a71a9dfe",
   "metadata": {
    "hidden": true
   },
   "outputs": [
    {
     "name": "stdout",
     "output_type": "stream",
     "text": [
      "NF-BoT-IoT\n",
      "nf_bot\n"
     ]
    }
   ],
   "source": [
    "device = 'cuda:2'\n",
    "n_folds = 5\n",
    "flag_save = True\n",
    "ds_name = list(ds_name2shrtname.keys())[0]\n",
    "shrt_name = ds_name2shrtname[ds_name]\n",
    "print(ds_name)\n",
    "print(shrt_name)"
   ]
  },
  {
   "cell_type": "code",
   "execution_count": null,
   "id": "bb66db76",
   "metadata": {
    "hidden": true
   },
   "outputs": [],
   "source": [
    "n_epochs = 1000\n",
    "cname_label = 'Label'\n",
    "for fold in range(n_folds):\n",
    "    print('Fold:', fold)\n",
    "    g_name = f'{ds_name}{fold}_graph_binary'\n",
    "    cname_tvt = f'{cname_label}_tvt_fold_{fold}'\n",
    "    df_result = run_baseline(\n",
    "        ds_name,\n",
    "        g_name,\n",
    "        cname_label,\n",
    "        cname_tvt,\n",
    "        n_epochs\n",
    "    )\n",
    "    display(df_result.head())\n",
    "    if flag_save:\n",
    "        \n",
    "        out_path = f'../output_cv/EGraphSAGE_{shrt_name}_binary_cv{fold}.csv'\n",
    "        print('Save:', out_path)\n",
    "        df_result.to_csv(out_path, index=False)"
   ]
  },
  {
   "cell_type": "code",
   "execution_count": null,
   "id": "1bf01934",
   "metadata": {
    "hidden": true
   },
   "outputs": [],
   "source": [
    "n_epochs = 1000\n",
    "cname_label = 'Attack'\n",
    "for fold in range(n_folds):\n",
    "    print('Fold:', fold)\n",
    "    g_name = f'{ds_name}{fold}_graph_multi'\n",
    "    cname_tvt = f'{cname_label}_tvt_fold_{fold}'\n",
    "    df_result = run_baseline(\n",
    "        ds_name,\n",
    "        g_name,\n",
    "        cname_label,\n",
    "        cname_tvt,\n",
    "        n_epochs\n",
    "    )\n",
    "    display(df_result.head())\n",
    "    if flag_save:\n",
    "        out_path = f'../output_cv/EGraphSAGE_{shrt_name}_multi_cv{fold}.csv'\n",
    "        print('Save:', out_path)\n",
    "        df_result.to_csv(out_path, index=False)"
   ]
  },
  {
   "cell_type": "markdown",
   "id": "ef25d36e",
   "metadata": {
    "heading_collapsed": true
   },
   "source": [
    "# Misc"
   ]
  },
  {
   "cell_type": "code",
   "execution_count": 18,
   "id": "1a7011ec",
   "metadata": {
    "hidden": true
   },
   "outputs": [
    {
     "name": "stdout",
     "output_type": "stream",
     "text": [
      "(600100, 16)\n"
     ]
    },
    {
     "data": {
      "text/html": [
       "<div>\n",
       "<style scoped>\n",
       "    .dataframe tbody tr th:only-of-type {\n",
       "        vertical-align: middle;\n",
       "    }\n",
       "\n",
       "    .dataframe tbody tr th {\n",
       "        vertical-align: top;\n",
       "    }\n",
       "\n",
       "    .dataframe thead th {\n",
       "        text-align: right;\n",
       "    }\n",
       "</style>\n",
       "<table border=\"1\" class=\"dataframe\">\n",
       "  <thead>\n",
       "    <tr style=\"text-align: right;\">\n",
       "      <th></th>\n",
       "      <th>IPV4_SRC_ADDR</th>\n",
       "      <th>L4_SRC_PORT</th>\n",
       "      <th>IPV4_DST_ADDR</th>\n",
       "      <th>L4_DST_PORT</th>\n",
       "      <th>PROTOCOL</th>\n",
       "      <th>L7_PROTO</th>\n",
       "      <th>IN_BYTES</th>\n",
       "      <th>OUT_BYTES</th>\n",
       "      <th>IN_PKTS</th>\n",
       "      <th>OUT_PKTS</th>\n",
       "      <th>TCP_FLAGS</th>\n",
       "      <th>FLOW_DURATION_MILLISECONDS</th>\n",
       "      <th>Label</th>\n",
       "      <th>Attack</th>\n",
       "      <th>Label_tvt</th>\n",
       "      <th>Attack_tvt</th>\n",
       "    </tr>\n",
       "  </thead>\n",
       "  <tbody>\n",
       "    <tr>\n",
       "      <th>0</th>\n",
       "      <td>192.168.100.6</td>\n",
       "      <td>52670</td>\n",
       "      <td>192.168.100.1</td>\n",
       "      <td>53</td>\n",
       "      <td>17</td>\n",
       "      <td>5.212</td>\n",
       "      <td>71</td>\n",
       "      <td>126</td>\n",
       "      <td>1</td>\n",
       "      <td>1</td>\n",
       "      <td>0</td>\n",
       "      <td>4294966</td>\n",
       "      <td>0</td>\n",
       "      <td>0</td>\n",
       "      <td>train</td>\n",
       "      <td>train</td>\n",
       "    </tr>\n",
       "    <tr>\n",
       "      <th>1</th>\n",
       "      <td>192.168.100.6</td>\n",
       "      <td>49160</td>\n",
       "      <td>192.168.100.149</td>\n",
       "      <td>4444</td>\n",
       "      <td>6</td>\n",
       "      <td>0.000</td>\n",
       "      <td>217753000</td>\n",
       "      <td>199100</td>\n",
       "      <td>4521</td>\n",
       "      <td>4049</td>\n",
       "      <td>24</td>\n",
       "      <td>4176249</td>\n",
       "      <td>1</td>\n",
       "      <td>4</td>\n",
       "      <td>test</td>\n",
       "      <td>test</td>\n",
       "    </tr>\n",
       "    <tr>\n",
       "      <th>2</th>\n",
       "      <td>192.168.100.46</td>\n",
       "      <td>3456</td>\n",
       "      <td>192.168.100.5</td>\n",
       "      <td>80</td>\n",
       "      <td>17</td>\n",
       "      <td>0.000</td>\n",
       "      <td>8508021</td>\n",
       "      <td>8918372</td>\n",
       "      <td>9086</td>\n",
       "      <td>9086</td>\n",
       "      <td>0</td>\n",
       "      <td>4175916</td>\n",
       "      <td>0</td>\n",
       "      <td>0</td>\n",
       "      <td>train</td>\n",
       "      <td>train</td>\n",
       "    </tr>\n",
       "    <tr>\n",
       "      <th>3</th>\n",
       "      <td>192.168.100.3</td>\n",
       "      <td>80</td>\n",
       "      <td>192.168.100.55</td>\n",
       "      <td>8080</td>\n",
       "      <td>6</td>\n",
       "      <td>7.000</td>\n",
       "      <td>8442138</td>\n",
       "      <td>9013406</td>\n",
       "      <td>9086</td>\n",
       "      <td>9086</td>\n",
       "      <td>0</td>\n",
       "      <td>4175916</td>\n",
       "      <td>0</td>\n",
       "      <td>0</td>\n",
       "      <td>train</td>\n",
       "      <td>train</td>\n",
       "    </tr>\n",
       "    <tr>\n",
       "      <th>4</th>\n",
       "      <td>192.168.100.46</td>\n",
       "      <td>80</td>\n",
       "      <td>192.168.100.5</td>\n",
       "      <td>80</td>\n",
       "      <td>6</td>\n",
       "      <td>7.000</td>\n",
       "      <td>8374706</td>\n",
       "      <td>0</td>\n",
       "      <td>9086</td>\n",
       "      <td>0</td>\n",
       "      <td>0</td>\n",
       "      <td>4175916</td>\n",
       "      <td>0</td>\n",
       "      <td>0</td>\n",
       "      <td>train</td>\n",
       "      <td>train</td>\n",
       "    </tr>\n",
       "  </tbody>\n",
       "</table>\n",
       "</div>"
      ],
      "text/plain": [
       "    IPV4_SRC_ADDR  L4_SRC_PORT    IPV4_DST_ADDR  L4_DST_PORT  PROTOCOL  \\\n",
       "0   192.168.100.6        52670    192.168.100.1           53        17   \n",
       "1   192.168.100.6        49160  192.168.100.149         4444         6   \n",
       "2  192.168.100.46         3456    192.168.100.5           80        17   \n",
       "3   192.168.100.3           80   192.168.100.55         8080         6   \n",
       "4  192.168.100.46           80    192.168.100.5           80         6   \n",
       "\n",
       "   L7_PROTO   IN_BYTES  OUT_BYTES  IN_PKTS  OUT_PKTS  TCP_FLAGS  \\\n",
       "0     5.212         71        126        1         1          0   \n",
       "1     0.000  217753000     199100     4521      4049         24   \n",
       "2     0.000    8508021    8918372     9086      9086          0   \n",
       "3     7.000    8442138    9013406     9086      9086          0   \n",
       "4     7.000    8374706          0     9086         0          0   \n",
       "\n",
       "   FLOW_DURATION_MILLISECONDS  Label  Attack Label_tvt Attack_tvt  \n",
       "0                     4294966      0       0     train      train  \n",
       "1                     4176249      1       4      test       test  \n",
       "2                     4175916      0       0     train      train  \n",
       "3                     4175916      0       0     train      train  \n",
       "4                     4175916      0       0     train      train  "
      ]
     },
     "execution_count": 18,
     "metadata": {},
     "output_type": "execute_result"
    }
   ],
   "source": [
    "ds_name = 'NF-BoT-IoT'\n",
    "cname_label = 'Label'\n",
    "cname_tvt = f'{cname_label}_tvt'\n",
    "n_epochs = 10\n",
    "device = 'cuda:0'\n",
    "\n",
    "data = pd.read_csv(f'../datasets/{ds_name}_tvt.csv')\n",
    "label2idx = pd.read_pickle(f'../datasets/{ds_name}_graph_multi.pkl')['label2idx']\n",
    "data['Attack'] = data['Attack'].map(label2idx)\n",
    "\n",
    "print(data.shape)\n",
    "data.head()"
   ]
  },
  {
   "cell_type": "code",
   "execution_count": 19,
   "id": "350501b2",
   "metadata": {
    "hidden": true
   },
   "outputs": [],
   "source": [
    "data['IPV4_SRC_ADDR'] = data.IPV4_SRC_ADDR.apply(\n",
    "    lambda x: socket.inet_ntoa(struct.pack('>I', random.randint(0xac100001, 0xac1f0001))))\n",
    "data['IPV4_SRC_ADDR'] = data.IPV4_SRC_ADDR.apply(str)\n",
    "data['L4_SRC_PORT'] = data.L4_SRC_PORT.apply(str)\n",
    "data['IPV4_DST_ADDR'] = data.IPV4_DST_ADDR.apply(str)\n",
    "data['L4_DST_PORT'] = data.L4_DST_PORT.apply(str)\n",
    "\n",
    "data['IPV4_SRC_ADDR'] = data['IPV4_SRC_ADDR'] + ':' + data['L4_SRC_PORT']\n",
    "data['IPV4_DST_ADDR'] = data['IPV4_DST_ADDR'] + ':' + data['L4_DST_PORT']\n",
    "\n",
    "data.drop(columns=['L4_SRC_PORT','L4_DST_PORT'], inplace=True)"
   ]
  },
  {
   "cell_type": "code",
   "execution_count": 20,
   "id": "a55ac318",
   "metadata": {
    "hidden": true
   },
   "outputs": [],
   "source": [
    "X_cnames = [c for c in data.columns if c not in ['Label_tvt', 'Attack_tvt']]\n",
    "X_train, X_test, y_train, y_test = (data[data[cname_tvt]!='test'][X_cnames], \n",
    "                                    data[data[cname_tvt]=='test'][X_cnames], \n",
    "                                    data[data[cname_tvt]!='test'][cname_label], \n",
    "                                    data[data[cname_tvt]=='test'][cname_label])"
   ]
  },
  {
   "cell_type": "code",
   "execution_count": 36,
   "id": "15350525",
   "metadata": {
    "hidden": true
   },
   "outputs": [],
   "source": [
    "def build_graph(scaler, encoder, X, y, cols_to_norm):\n",
    "    X = encoder.transform(X)\n",
    "    print(cols_to_norm)\n",
    "    X[cols_to_norm] = scaler.transform(X[cols_to_norm])\n",
    "    X['h'] = X[cols_to_norm].values.tolist()\n",
    "    X['h'] = X['h'].apply(lambda x: torch.tensor(x))\n",
    "    print(X, X.shape)\n",
    "    G = nx.from_pandas_edgelist(\n",
    "        X, \"IPV4_SRC_ADDR\", \"IPV4_DST_ADDR\", ['h', cname_label], create_using=nx.MultiGraph())\n",
    "    G = G.to_directed()\n",
    "    print(G.number_of_nodes())\n",
    "    print(G.number_of_edges())\n",
    "    G = from_networkx(G, edge_attrs=['h', cname_label])\n",
    "    print('G nodes', G.number_of_nodes())\n",
    "    print('G edges', G.number_of_edges())\n",
    "    # Eq1\n",
    "    G.ndata['h'] = torch.ones(G.num_nodes(), G.edata['h'].shape[1])\n",
    "    G.edata['train_mask'] = torch.ones(len(G.edata['h']), dtype=torch.bool)\n",
    "    print('G ndata', G.ndata['h'].shape)\n",
    "    print('G edata', G.edata['train_mask'].shape)\n",
    "    \n",
    "    G.ndata['h'] = torch.reshape(G.ndata['h'], (G.ndata['h'].shape[0], 1, G.ndata['h'].shape[1]))\n",
    "    G.edata['h'] = torch.reshape(G.edata['h'], (G.edata['h'].shape[0], 1, G.edata['h'].shape[1]))\n",
    "    print('G ndata', G.ndata['h'].shape)\n",
    "    print('G edata', G.edata['h'].shape)\n",
    "    G = G.to(device)\n",
    "    \n",
    "    return G"
   ]
  },
  {
   "cell_type": "code",
   "execution_count": 37,
   "id": "c22ba692",
   "metadata": {
    "hidden": true
   },
   "outputs": [
    {
     "name": "stdout",
     "output_type": "stream",
     "text": [
      "['OUT_BYTES', 'IN_PKTS', 'OUT_PKTS', 'TCP_FLAGS', 'PROTOCOL', 'L7_PROTO', 'FLOW_DURATION_MILLISECONDS', 'IN_BYTES']\n",
      "               IPV4_SRC_ADDR         IPV4_DST_ADDR  PROTOCOL  L7_PROTO  \\\n",
      "0       172.16.165.142:52670      192.168.100.1:53 -2.268430 -0.255669   \n",
      "2        172.19.188.130:3456      192.168.100.5:80 -2.268430 -0.227547   \n",
      "3          172.30.194.190:80   192.168.100.55:8080 -2.177751 -0.227166   \n",
      "4            172.19.59.45:80      192.168.100.5:80 -2.177751 -0.227166   \n",
      "5           172.29.116.152:0       192.168.100.3:0 -2.177751 -0.227547   \n",
      "...                      ...                   ...       ...       ...   \n",
      "600091    172.28.202.83:3456      192.168.100.5:80 -2.268430 -0.227547   \n",
      "600092   172.29.191.120:8080      192.168.100.3:80 -2.177751 -0.227166   \n",
      "600094      172.27.119.97:80      192.168.100.3:80 -2.177751 -0.227166   \n",
      "600095     172.19.103.242:80      192.168.100.5:80 -2.177751 -0.227166   \n",
      "600099  172.29.164.238:49160  192.168.100.149:4444 -2.177751 -0.227547   \n",
      "\n",
      "         IN_BYTES  OUT_BYTES    IN_PKTS   OUT_PKTS  TCP_FLAGS  \\\n",
      "0       -0.020609  -0.008339  -0.045684  -0.023745  -2.588792   \n",
      "2       19.653852  12.195069  36.833188  43.911817  -2.588792   \n",
      "3       19.501499  12.325110  36.833188  43.911817  -2.588792   \n",
      "4       19.345563  -0.008511  36.833188  -0.028581  -2.588792   \n",
      "5        8.764996  -0.008511  22.081639  -0.028581  -2.588792   \n",
      "...           ...        ...        ...        ...        ...   \n",
      "600091   5.441294   3.379776  10.191907  12.172786  -2.588792   \n",
      "600092   5.764577   3.199914  10.191907  12.172786  -2.588792   \n",
      "600094   0.534832  -0.008511   3.408792  -0.028581  -2.588792   \n",
      "600095   5.367455  -0.008511  10.191907  -0.028581  -2.588792   \n",
      "600099  92.715023   0.042501   3.047513   2.824691  -2.667136   \n",
      "\n",
      "        FLOW_DURATION_MILLISECONDS  Label  Attack  \\\n",
      "0                         0.496526      0       0   \n",
      "2                         0.425057      0       0   \n",
      "3                         0.425057      0       0   \n",
      "4                         0.425057      0       0   \n",
      "5                         0.425067      0       0   \n",
      "...                            ...    ...     ...   \n",
      "600091                    0.477358      0       0   \n",
      "600092                    0.477358      0       0   \n",
      "600094                    0.477380      0       0   \n",
      "600095                    0.477358      0       0   \n",
      "600099                    0.481579      1       4   \n",
      "\n",
      "                                                        h  \n",
      "0       [tensor(-0.0083), tensor(-0.0457), tensor(-0.0...  \n",
      "2       [tensor(12.1951), tensor(36.8332), tensor(43.9...  \n",
      "3       [tensor(12.3251), tensor(36.8332), tensor(43.9...  \n",
      "4       [tensor(-0.0085), tensor(36.8332), tensor(-0.0...  \n",
      "5       [tensor(-0.0085), tensor(22.0816), tensor(-0.0...  \n",
      "...                                                   ...  \n",
      "600091  [tensor(3.3798), tensor(10.1919), tensor(12.17...  \n",
      "600092  [tensor(3.1999), tensor(10.1919), tensor(12.17...  \n",
      "600094  [tensor(-0.0085), tensor(3.4088), tensor(-0.02...  \n",
      "600095  [tensor(-0.0085), tensor(10.1919), tensor(-0.0...  \n",
      "600099  [tensor(0.0425), tensor(3.0475), tensor(2.8247...  \n",
      "\n",
      "[420070 rows x 13 columns] (420070, 13)\n",
      "433037\n",
      "840140\n",
      "G nodes 433037\n",
      "G edges 840140\n",
      "G ndata torch.Size([433037, 8])\n",
      "G edata torch.Size([840140])\n",
      "G ndata torch.Size([433037, 1, 8])\n",
      "G edata torch.Size([840140, 1, 8])\n"
     ]
    }
   ],
   "source": [
    "G_train = build_graph(scaler, encoder, X_train, y_train, cols_to_norm)"
   ]
  },
  {
   "cell_type": "code",
   "execution_count": 33,
   "id": "e6bcb365",
   "metadata": {
    "hidden": true
   },
   "outputs": [
    {
     "data": {
      "text/plain": [
       "840140"
      ]
     },
     "execution_count": 33,
     "metadata": {},
     "output_type": "execute_result"
    }
   ],
   "source": [
    "G_train.number_of_edges()"
   ]
  },
  {
   "cell_type": "code",
   "execution_count": 47,
   "id": "840b8eeb",
   "metadata": {
    "hidden": true
   },
   "outputs": [
    {
     "data": {
      "text/plain": [
       "420070"
      ]
     },
     "execution_count": 47,
     "metadata": {},
     "output_type": "execute_result"
    }
   ],
   "source": [
    "G.number_of_edges()"
   ]
  },
  {
   "cell_type": "code",
   "execution_count": 44,
   "id": "0be91dbb",
   "metadata": {
    "hidden": true
   },
   "outputs": [
    {
     "data": {
      "text/plain": [
       "(420070, 13)"
      ]
     },
     "execution_count": 44,
     "metadata": {},
     "output_type": "execute_result"
    }
   ],
   "source": [
    "X.shape"
   ]
  },
  {
   "cell_type": "code",
   "execution_count": 48,
   "id": "4bccfb43",
   "metadata": {
    "hidden": true
   },
   "outputs": [
    {
     "name": "stdout",
     "output_type": "stream",
     "text": [
      "['OUT_BYTES', 'IN_PKTS', 'OUT_PKTS', 'TCP_FLAGS', 'PROTOCOL', 'L7_PROTO', 'FLOW_DURATION_MILLISECONDS', 'IN_BYTES']\n"
     ]
    }
   ],
   "source": [
    "X = encoder.transform(X_train)\n",
    "print(cols_to_norm)\n",
    "X[cols_to_norm] = scaler.transform(X[cols_to_norm])\n",
    "X['h'] = X[cols_to_norm].values.tolist()\n",
    "X['h'] = X['h'].apply(lambda x: torch.tensor(x))\n",
    "G = nx.from_pandas_edgelist(\n",
    "    X, \"IPV4_SRC_ADDR\", \"IPV4_DST_ADDR\", ['h', cname_label], create_using=nx.DiGraph())\n",
    "# G = G.to_directed()"
   ]
  },
  {
   "cell_type": "code",
   "execution_count": 21,
   "id": "8bad9241",
   "metadata": {
    "hidden": true
   },
   "outputs": [
    {
     "name": "stderr",
     "output_type": "stream",
     "text": [
      "/home/hoang/miniconda2/envs/iot/lib/python3.9/site-packages/category_encoders/target_encoder.py:92: FutureWarning: Default parameter min_samples_leaf will change in version 2.6.See https://github.com/scikit-learn-contrib/category_encoders/issues/327\n",
      "  warnings.warn(\"Default parameter min_samples_leaf will change in version 2.6.\"\n",
      "/home/hoang/miniconda2/envs/iot/lib/python3.9/site-packages/category_encoders/target_encoder.py:97: FutureWarning: Default parameter smoothing will change in version 2.6.See https://github.com/scikit-learn-contrib/category_encoders/issues/327\n",
      "  warnings.warn(\"Default parameter smoothing will change in version 2.6.\"\n"
     ]
    },
    {
     "name": "stdout",
     "output_type": "stream",
     "text": [
      "['OUT_BYTES', 'IN_PKTS', 'OUT_PKTS', 'TCP_FLAGS', 'PROTOCOL', 'L7_PROTO', 'FLOW_DURATION_MILLISECONDS', 'IN_BYTES']\n",
      "['OUT_BYTES', 'IN_PKTS', 'OUT_PKTS', 'TCP_FLAGS', 'PROTOCOL', 'L7_PROTO', 'FLOW_DURATION_MILLISECONDS', 'IN_BYTES']\n"
     ]
    }
   ],
   "source": [
    "cols_to_norm = list(set(X_train.columns) - set(['Label', 'Attack', 'IPV4_SRC_ADDR', 'IPV4_DST_ADDR']))\n",
    "scaler = StandardScaler()\n",
    "scaler.fit(X_train[cols_to_norm])\n",
    "encoder = ce.TargetEncoder(cols=['TCP_FLAGS','L7_PROTO','PROTOCOL'])\n",
    "encoder.fit(X_train, y_train)\n",
    "\n",
    "G_train = build_graph(scaler, encoder, X_train, y_train, cols_to_norm)\n",
    "G_test = build_graph(scaler, encoder, X_test, y_test, cols_to_norm)\n",
    "\n",
    "node_features = G_train.ndata['h']\n",
    "edge_features = G_train.edata['h']\n",
    "\n",
    "node_features_test = G_test.ndata['h']\n",
    "edge_features_test = G_test.edata['h']"
   ]
  },
  {
   "cell_type": "code",
   "execution_count": 27,
   "id": "a045ac46",
   "metadata": {
    "hidden": true
   },
   "outputs": [
    {
     "name": "stdout",
     "output_type": "stream",
     "text": [
      "(420070, 12)\n",
      "(180030, 12)\n",
      "torch.Size([840140, 1, 8])\n",
      "torch.Size([360060, 1, 8])\n"
     ]
    }
   ],
   "source": [
    "print(X_train.shape)\n",
    "print(X_test.shape)\n",
    "print(edge_features.shape)\n",
    "print(edge_features_test.shape)"
   ]
  },
  {
   "cell_type": "code",
   "execution_count": 22,
   "id": "baab118d",
   "metadata": {
    "hidden": true
   },
   "outputs": [],
   "source": [
    "ndim_in = G_train.ndata['h'].shape[2]\n",
    "ndim_out = 128 \n",
    "edim = G_train.ndata['h'].shape[2]\n",
    "activation = F.relu\n",
    "dropout = 0.2\n",
    "n_classes = data[cname_label].nunique()\n",
    "\n",
    "sage = SAGE(ndim_in, ndim_out, edim, activation, dropout).to(device)\n",
    "mlp = MLPPredictor(ndim_out, 2).to(device)\n",
    "model = Model(ndim_in, ndim_out, edim, n_classes, activation, dropout).to(device)\n",
    "opt = torch.optim.Adam(model.parameters())\n",
    "\n",
    "class_weights = class_weight.compute_class_weight(\n",
    "    'balanced', \n",
    "    classes=data[cname_label].unique(),\n",
    "    y=data[cname_label].values.tolist(),\n",
    ")\n",
    "class_weights = torch.FloatTensor(class_weights).to(device)\n",
    "criterion = nn.CrossEntropyLoss(weight=class_weights)"
   ]
  },
  {
   "cell_type": "code",
   "execution_count": 23,
   "id": "86d26995",
   "metadata": {
    "hidden": true,
    "scrolled": true
   },
   "outputs": [
    {
     "name": "stdout",
     "output_type": "stream",
     "text": [
      "0010 - Training acc: 0.8192979693412781\n"
     ]
    }
   ],
   "source": [
    "edge_label = G_train.edata[cname_label]\n",
    "train_mask = G_train.edata['train_mask']\n",
    "\n",
    "for epoch in range(1, n_epochs+1):\n",
    "    pred = model(G_train, node_features, edge_features).to(device)\n",
    "    loss = criterion(pred[train_mask], edge_label[train_mask])\n",
    "    opt.zero_grad()\n",
    "    loss.backward()\n",
    "    opt.step()\n",
    "    if epoch % 10 == 0:\n",
    "        print(f'{epoch:04d} - Training acc:', compute_accuracy(pred[train_mask], edge_label[train_mask]))"
   ]
  },
  {
   "cell_type": "code",
   "execution_count": 24,
   "id": "dbc42413",
   "metadata": {
    "hidden": true
   },
   "outputs": [],
   "source": [
    "train_pred_prop = model(G_train, node_features, edge_features).to(device)\n",
    "train_pred = train_pred_prop.argmax(1)\n",
    "train_pred = torch.Tensor.cpu(train_pred).detach().numpy()\n",
    "train_actual = G_train.edata.pop(cname_label)"
   ]
  },
  {
   "cell_type": "code",
   "execution_count": 25,
   "id": "915296c7",
   "metadata": {
    "hidden": true
   },
   "outputs": [
    {
     "ename": "NameError",
     "evalue": "name 'actual' is not defined",
     "output_type": "error",
     "traceback": [
      "\u001b[0;31m---------------------------------------------------------------------------\u001b[0m",
      "\u001b[0;31mNameError\u001b[0m                                 Traceback (most recent call last)",
      "Cell \u001b[0;32mIn [25], line 9\u001b[0m\n\u001b[1;32m      4\u001b[0m test_actual \u001b[38;5;241m=\u001b[39m G_test\u001b[38;5;241m.\u001b[39medata\u001b[38;5;241m.\u001b[39mpop(cname_label)\n\u001b[1;32m      6\u001b[0m \u001b[38;5;66;03m# actual = [\"Normal\" if i == 0 else \"Attack\" for i in actual]\u001b[39;00m\n\u001b[1;32m      7\u001b[0m \u001b[38;5;66;03m# test_pred = [\"Normal\" if i == 0 else \"Attack\" for i in test_pred]\u001b[39;00m\n\u001b[0;32m----> 9\u001b[0m actual_1 \u001b[38;5;241m=\u001b[39m [i\u001b[38;5;241m.\u001b[39mitem() \u001b[38;5;28;01mfor\u001b[39;00m i \u001b[38;5;129;01min\u001b[39;00m \u001b[43mactual\u001b[49m]\n\u001b[1;32m     10\u001b[0m test_pred_1 \u001b[38;5;241m=\u001b[39m [i \u001b[38;5;28;01mfor\u001b[39;00m i \u001b[38;5;129;01min\u001b[39;00m test_pred]\n",
      "\u001b[0;31mNameError\u001b[0m: name 'actual' is not defined"
     ]
    }
   ],
   "source": [
    "test_pred_prop = model(G_test, node_features_test, edge_features_test).to(device)\n",
    "test_pred = test_pred_prop.argmax(1)\n",
    "test_pred = torch.Tensor.cpu(test_pred).detach().numpy()\n",
    "test_actual = G_test.edata.pop(cname_label)\n",
    "\n",
    "# actual = [\"Normal\" if i == 0 else \"Attack\" for i in actual]\n",
    "# test_pred = [\"Normal\" if i == 0 else \"Attack\" for i in test_pred]"
   ]
  },
  {
   "cell_type": "code",
   "execution_count": null,
   "id": "da41d006",
   "metadata": {
    "hidden": true
   },
   "outputs": [],
   "source": [
    "norm_test_pred_prop = torch.softmax(test_pred_prop, dim=1)"
   ]
  },
  {
   "cell_type": "code",
   "execution_count": 13,
   "id": "8c700ab8",
   "metadata": {
    "hidden": true
   },
   "outputs": [
    {
     "data": {
      "text/plain": [
       "tensor([[ 3.6942e+01, -4.6637e+01],\n",
       "        [ 3.9542e+01, -4.8324e+01],\n",
       "        [ 1.9192e+01, -1.9510e+01],\n",
       "        ...,\n",
       "        [ 1.3778e+00, -1.5827e+00],\n",
       "        [ 2.9585e+00, -3.1632e+00],\n",
       "        [-1.5411e-01, -1.5061e-02]], device='cuda:0', grad_fn=<AddmmBackward0>)"
      ]
     },
     "execution_count": 13,
     "metadata": {},
     "output_type": "execute_result"
    }
   ],
   "source": [
    "test_pred_prop"
   ]
  },
  {
   "cell_type": "code",
   "execution_count": 14,
   "id": "71cf85db",
   "metadata": {
    "hidden": true
   },
   "outputs": [
    {
     "data": {
      "text/plain": [
       "tensor([[1.0000e+00, 5.0369e-37],\n",
       "        [1.0000e+00, 6.9235e-39],\n",
       "        [1.0000e+00, 1.5552e-17],\n",
       "        ...,\n",
       "        [9.5076e-01, 4.9239e-02],\n",
       "        [9.9781e-01, 2.1900e-03],\n",
       "        [4.6529e-01, 5.3471e-01]], device='cuda:0', grad_fn=<SoftmaxBackward0>)"
      ]
     },
     "execution_count": 14,
     "metadata": {},
     "output_type": "execute_result"
    }
   ],
   "source": [
    "norm_test_pred_prop"
   ]
  }
 ],
 "metadata": {
  "kernelspec": {
   "display_name": "Python 3 (ipykernel)",
   "language": "python",
   "name": "python3"
  },
  "language_info": {
   "codemirror_mode": {
    "name": "ipython",
    "version": 3
   },
   "file_extension": ".py",
   "mimetype": "text/x-python",
   "name": "python",
   "nbconvert_exporter": "python",
   "pygments_lexer": "ipython3",
   "version": "3.9.15"
  },
  "toc": {
   "base_numbering": 1,
   "nav_menu": {},
   "number_sections": true,
   "sideBar": true,
   "skip_h1_title": false,
   "title_cell": "Table of Contents",
   "title_sidebar": "Contents",
   "toc_cell": false,
   "toc_position": {
    "height": "calc(100% - 180px)",
    "left": "10px",
    "top": "150px",
    "width": "165px"
   },
   "toc_section_display": true,
   "toc_window_display": true
  }
 },
 "nbformat": 4,
 "nbformat_minor": 5
}
