{
 "cells": [
  {
   "cell_type": "code",
   "execution_count": 6,
   "id": "94bb3daa",
   "metadata": {},
   "outputs": [
    {
     "name": "stderr",
     "output_type": "stream",
     "text": [
      "/home/hoang/miniconda2/envs/iot/lib/python3.9/site-packages/xgboost/compat.py:36: FutureWarning: pandas.Int64Index is deprecated and will be removed from pandas in a future version. Use pandas.Index with the appropriate dtype instead.\n",
      "  from pandas import MultiIndex, Int64Index\n"
     ]
    },
    {
     "name": "stdout",
     "output_type": "stream",
     "text": [
      "PROJ_PATH=/home/hoang/github/TS-IDS\n"
     ]
    }
   ],
   "source": [
    "%load_ext autoreload\n",
    "%autoreload 2\n",
    "\n",
    "import os, sys, re, datetime, random, gzip, json, copy\n",
    "import tqdm\n",
    "import pandas as pd\n",
    "import numpy as np\n",
    "import glob\n",
    "from pathlib import Path\n",
    "from itertools import accumulate\n",
    "import argparse\n",
    "from time import time\n",
    "from math import ceil\n",
    "from collections import Counter\n",
    "import socket,struct\n",
    "import timeit\n",
    "\n",
    "import xgboost as xgb\n",
    "from sklearn.metrics import f1_score, accuracy_score, top_k_accuracy_score, roc_auc_score\n",
    "from sklearn.utils import class_weight\n",
    "from sklearn.preprocessing import LabelEncoder\n",
    "from sklearn.preprocessing import StandardScaler\n",
    "import category_encoders as ce\n",
    "\n",
    "from dgl import from_networkx\n",
    "import dgl.function as fn\n",
    "import networkx as nx\n",
    "\n",
    "PROJ_PATH = Path(os.path.join(re.sub(\"/TS-IDS.*$\", '', os.getcwd()), 'TS-IDS'))\n",
    "print(f'PROJ_PATH={PROJ_PATH}')\n",
    "sys.path.insert(1, str(PROJ_PATH))\n",
    "sys.path.insert(1, str(PROJ_PATH/'src'))\n",
    "import utils\n",
    "from utils import *\n",
    "from dataset import build_datamodule\n",
    "from trainer import build_trainer\n",
    "from model import TSIDS\n",
    "from pipeline import TSIDSPipeline\n",
    "\n",
    "from sklearn.metrics import accuracy_score, precision_score, recall_score, f1_score"
   ]
  },
  {
   "cell_type": "code",
   "execution_count": 7,
   "id": "15e63f53",
   "metadata": {},
   "outputs": [],
   "source": [
    "def compute_accuracy(pred, labels):\n",
    "    return (pred.argmax(1) == labels).float().mean().item()\n",
    "\n",
    "class SAGELayer(nn.Module):\n",
    "    def __init__(self, ndim_in, edims, ndim_out, activation):\n",
    "        super(SAGELayer, self).__init__()\n",
    "        ### force to outut fix dimensions\n",
    "        self.W_msg = nn.Linear(ndim_in + edims, ndim_out)\n",
    "        ### apply weight\n",
    "        self.W_apply = nn.Linear(ndim_in + ndim_out, ndim_out)\n",
    "        self.activation = activation\n",
    "\n",
    "    def message_func(self, edges):\n",
    "        return {'m': self.W_msg(torch.cat([edges.src['h'], edges.data['h']], 2))}\n",
    "\n",
    "    def forward(self, g_dgl, nfeats, efeats):\n",
    "        with g_dgl.local_scope():\n",
    "            g = g_dgl\n",
    "            g.ndata['h'] = nfeats\n",
    "            g.edata['h'] = efeats\n",
    "            # Eq4\n",
    "            g.update_all(self.message_func, fn.mean('m', 'h_neigh'))\n",
    "            # Eq5          \n",
    "            g.ndata['h'] = F.relu(self.W_apply(torch.cat([g.ndata['h'], g.ndata['h_neigh']], 2)))\n",
    "            return g.ndata['h']\n",
    "\n",
    "\n",
    "class SAGE(nn.Module):\n",
    "    def __init__(self, ndim_in, ndim_out, edim, activation, dropout):\n",
    "        super(SAGE, self).__init__()\n",
    "        self.layers = nn.ModuleList()\n",
    "        self.layers.append(SAGELayer(ndim_in, edim, 128, activation))\n",
    "        self.layers.append(SAGELayer(128, edim, ndim_out, activation))\n",
    "        self.dropout = nn.Dropout(p=dropout)\n",
    "\n",
    "    def forward(self, g, nfeats, efeats):\n",
    "        for i, layer in enumerate(self.layers):\n",
    "            if i != 0:\n",
    "                nfeats = self.dropout(nfeats)\n",
    "            nfeats = layer(g, nfeats, efeats)\n",
    "        return nfeats.sum(1)\n",
    "    \n",
    "class MLPPredictor(nn.Module):\n",
    "    def __init__(self, in_features, out_classes):\n",
    "        super().__init__()\n",
    "        self.W = nn.Linear(in_features * 2, out_classes)\n",
    "\n",
    "    def apply_edges(self, edges):\n",
    "        h_u = edges.src['h']\n",
    "        h_v = edges.dst['h']\n",
    "        score = self.W(torch.cat([h_u, h_v], 1))\n",
    "        return {'score': score}\n",
    "\n",
    "    def forward(self, graph, h):\n",
    "        with graph.local_scope():\n",
    "            graph.ndata['h'] = h\n",
    "            graph.apply_edges(self.apply_edges)\n",
    "            return graph.edata['score']\n",
    "        \n",
    "class Model(nn.Module):\n",
    "    def __init__(self, ndim_in, ndim_out, edim, n_classes, activation, dropout):\n",
    "        super().__init__()\n",
    "        self.gnn = SAGE(ndim_in, ndim_out, edim, activation, dropout)\n",
    "        self.pred = MLPPredictor(ndim_out, n_classes)\n",
    "    def forward(self, g, nfeats, efeats):\n",
    "        h = self.gnn(g, nfeats, efeats)\n",
    "        return self.pred(g, h)"
   ]
  },
  {
   "cell_type": "code",
   "execution_count": 8,
   "id": "de9dd68d",
   "metadata": {},
   "outputs": [],
   "source": [
    "def build_graph(scaler, encoder, X, y, cols_to_norm):\n",
    "    X = encoder.transform(X)\n",
    "    print(cols_to_norm)\n",
    "    X[cols_to_norm] = scaler.transform(X[cols_to_norm])\n",
    "    X['h'] = X[cols_to_norm].values.tolist()\n",
    "    X['h'] = X['h'].apply(lambda x: torch.tensor(x))\n",
    "    \n",
    "    G = nx.from_pandas_edgelist(\n",
    "        X, \"IPV4_SRC_ADDR\", \"IPV4_DST_ADDR\", ['h', cname_label], create_using=nx.MultiGraph())\n",
    "    G = G.to_directed()\n",
    "    G = from_networkx(G, edge_attrs=['h', cname_label])\n",
    "    \n",
    "    # Eq1\n",
    "    G.ndata['h'] = torch.ones(G.num_nodes(), G.edata['h'].shape[1])\n",
    "    G.edata['train_mask'] = torch.ones(len(G.edata['h']), dtype=torch.bool)\n",
    "    \n",
    "    G.ndata['h'] = torch.reshape(G.ndata['h'], (G.ndata['h'].shape[0], 1,G.ndata['h'].shape[1]))\n",
    "    G.edata['h'] = torch.reshape(G.edata['h'], (G.edata['h'].shape[0], 1,G.edata['h'].shape[1]))\n",
    "    G = G.to(device)\n",
    "    \n",
    "    return G"
   ]
  },
  {
   "cell_type": "code",
   "execution_count": 185,
   "id": "8807b01c",
   "metadata": {},
   "outputs": [],
   "source": [
    "def run_baseline(\n",
    "    ds_name,\n",
    "    cname_label,\n",
    "    n_epochs\n",
    "):\n",
    "    cname_tvt = f'{cname_label}_tvt'\n",
    "    \n",
    "    data = pd.read_csv(f'../datasets/{ds_name}_tvt.csv')\n",
    "    label2idx = pd.read_pickle(f'../datasets/{ds_name}_graph_multi.pkl')['label2idx']\n",
    "    if cname_label == 'Attack':\n",
    "        data['Attack'] = data['Attack'].map(label2idx)\n",
    "        \n",
    "    ####\n",
    "    data['IPV4_SRC_ADDR'] = data.IPV4_SRC_ADDR.apply(\n",
    "        lambda x: socket.inet_ntoa(struct.pack('>I', random.randint(0xac100001, 0xac1f0001))))\n",
    "    data['IPV4_SRC_ADDR'] = data.IPV4_SRC_ADDR.apply(str)\n",
    "    data['L4_SRC_PORT'] = data.L4_SRC_PORT.apply(str)\n",
    "    data['IPV4_DST_ADDR'] = data.IPV4_DST_ADDR.apply(str)\n",
    "    data['L4_DST_PORT'] = data.L4_DST_PORT.apply(str)\n",
    "\n",
    "    data['IPV4_SRC_ADDR'] = data['IPV4_SRC_ADDR'] + ':' + data['L4_SRC_PORT']\n",
    "    data['IPV4_DST_ADDR'] = data['IPV4_DST_ADDR'] + ':' + data['L4_DST_PORT']\n",
    "\n",
    "    data.drop(columns=['L4_SRC_PORT','L4_DST_PORT'], inplace=True)\n",
    "    \n",
    "    ####\n",
    "    X_cnames = [c for c in data.columns if c not in ['Label_tvt', 'Attack_tvt']]\n",
    "    X_train, X_test, y_train, y_test = (data[data[cname_tvt]!='test'][X_cnames], \n",
    "                                        data[data[cname_tvt]=='test'][X_cnames], \n",
    "                                        data[data[cname_tvt]!='test'][cname_label], \n",
    "                                        data[data[cname_tvt]=='test'][cname_label])\n",
    "    \n",
    "    ####\n",
    "    cols_to_norm = list(set(X_train.columns) - set(['Label', 'Attack', 'IPV4_SRC_ADDR', 'IPV4_DST_ADDR']))\n",
    "    scaler = StandardScaler()\n",
    "    scaler.fit(X_train[cols_to_norm])\n",
    "    encoder = ce.TargetEncoder(cols=['TCP_FLAGS','L7_PROTO','PROTOCOL'])\n",
    "    encoder.fit(X_train, y_train)\n",
    "\n",
    "    G_train = build_graph(scaler, encoder, X_train, y_train, cols_to_norm)\n",
    "    G_test = build_graph(scaler, encoder, X_test, y_test, cols_to_norm)\n",
    "\n",
    "    node_features = G_train.ndata['h']\n",
    "    edge_features = G_train.edata['h']\n",
    "\n",
    "    node_features_test = G_test.ndata['h']\n",
    "    edge_features_test = G_test.edata['h']\n",
    "    \n",
    "    ####\n",
    "    ndim_in = G_train.ndata['h'].shape[2]\n",
    "    ndim_out = 128 \n",
    "    edim = G_train.ndata['h'].shape[2]\n",
    "    activation = F.relu\n",
    "    dropout = 0.2\n",
    "    n_classes = data[cname_label].nunique()\n",
    "\n",
    "    sage = SAGE(ndim_in, ndim_out, edim, activation, dropout).to(device)\n",
    "    mlp = MLPPredictor(ndim_out, 2).to(device)\n",
    "    model = Model(ndim_in, ndim_out, edim, n_classes, activation, dropout).to(device)\n",
    "    opt = torch.optim.Adam(model.parameters())\n",
    "\n",
    "    class_weights = class_weight.compute_class_weight(\n",
    "        'balanced', \n",
    "        classes=data[cname_label].unique(),\n",
    "        y=data[cname_label].values.tolist(),\n",
    "    )\n",
    "    class_weights = torch.FloatTensor(class_weights).to(device)\n",
    "    criterion = nn.CrossEntropyLoss(weight=class_weights)\n",
    "    \n",
    "    ####\n",
    "    edge_label = G_train.edata[cname_label]\n",
    "    train_mask = G_train.edata['train_mask']\n",
    "\n",
    "    for epoch in range(1, n_epochs+1):\n",
    "        pred = model(G_train, node_features, edge_features).to(device)\n",
    "        loss = criterion(pred[train_mask], edge_label[train_mask])\n",
    "        opt.zero_grad()\n",
    "        loss.backward()\n",
    "        opt.step()\n",
    "        if epoch % 10 == 0:\n",
    "            print(f'{epoch:04d} - Training acc:', compute_accuracy(pred[train_mask], edge_label[train_mask]))\n",
    "            \n",
    "    ####\n",
    "    test_pred_prop = model(G_test, node_features_test, edge_features_test).to(device)\n",
    "    norm_test_pred_prop = torch.softmax(test_pred_prop, dim=1)\n",
    "    test_pred = test_pred_prop.argmax(1)\n",
    "    test_pred = torch.Tensor.cpu(test_pred).detach().numpy()\n",
    "    actual = G_test.edata.pop(cname_label)\n",
    "\n",
    "    actual_1 = [i.item() for i in actual]\n",
    "    test_pred_1 = [i for i in test_pred]\n",
    "    \n",
    "    # # evaluation metrics\n",
    "    # - Acc\n",
    "    print('accuracy_score:', accuracy_score(actual_1, test_pred_1))\n",
    "    # - AUC\n",
    "    pred_array = norm_test_pred_prop.detach().cpu()\n",
    "    if cname_label == 'Label':\n",
    "        pred_array = norm_test_pred_prop[:, 1].detach().cpu()\n",
    "    print('roc_auc_score', roc_auc_score(actual_1, pred_array, multi_class='ovr', average='macro'))\n",
    "    # - Precision\n",
    "    print('precision_score', precision_score(actual_1, test_pred_1, average='micro'))\n",
    "    # - Recall\n",
    "    print('recall_score', recall_score(actual_1, test_pred_1, average='micro'))\n",
    "    # - F1-score\n",
    "    print('f1_score', f1_score(actual_1, test_pred_1, average='micro'))"
   ]
  },
  {
   "cell_type": "markdown",
   "id": "81bbad3d",
   "metadata": {},
   "source": [
    "# BoT"
   ]
  },
  {
   "cell_type": "code",
   "execution_count": 186,
   "id": "6f236165",
   "metadata": {},
   "outputs": [],
   "source": [
    "ds_name = 'NF-BoT-IoT'\n",
    "n_epochs = 10\n",
    "device = 'cuda:0'"
   ]
  },
  {
   "cell_type": "code",
   "execution_count": 187,
   "id": "15cb14b5",
   "metadata": {
    "scrolled": true
   },
   "outputs": [
    {
     "name": "stderr",
     "output_type": "stream",
     "text": [
      "/home/hoang/miniconda2/envs/iot/lib/python3.9/site-packages/category_encoders/target_encoder.py:92: FutureWarning: Default parameter min_samples_leaf will change in version 2.6.See https://github.com/scikit-learn-contrib/category_encoders/issues/327\n",
      "  warnings.warn(\"Default parameter min_samples_leaf will change in version 2.6.\"\n",
      "/home/hoang/miniconda2/envs/iot/lib/python3.9/site-packages/category_encoders/target_encoder.py:97: FutureWarning: Default parameter smoothing will change in version 2.6.See https://github.com/scikit-learn-contrib/category_encoders/issues/327\n",
      "  warnings.warn(\"Default parameter smoothing will change in version 2.6.\"\n"
     ]
    },
    {
     "name": "stdout",
     "output_type": "stream",
     "text": [
      "['TCP_FLAGS', 'FLOW_DURATION_MILLISECONDS', 'IN_PKTS', 'PROTOCOL', 'IN_BYTES', 'OUT_PKTS', 'OUT_BYTES', 'L7_PROTO']\n",
      "['TCP_FLAGS', 'FLOW_DURATION_MILLISECONDS', 'IN_PKTS', 'PROTOCOL', 'IN_BYTES', 'OUT_PKTS', 'OUT_BYTES', 'L7_PROTO']\n",
      "0010 - Training acc: 0.8097209930419922\n",
      "accuracy_score: 0.8116230628228629\n",
      "roc_auc_score 0.6192215129179939\n",
      "precision_score 0.8116230628228629\n",
      "recall_score 0.8116230628228629\n",
      "f1_score 0.8116230628228629\n"
     ]
    }
   ],
   "source": [
    "cname_label = 'Label'\n",
    "run_baseline(\n",
    "    ds_name,\n",
    "    cname_label,\n",
    "    n_epochs\n",
    ")"
   ]
  },
  {
   "cell_type": "code",
   "execution_count": 188,
   "id": "457a1655",
   "metadata": {
    "scrolled": true
   },
   "outputs": [
    {
     "name": "stderr",
     "output_type": "stream",
     "text": [
      "/home/hoang/miniconda2/envs/iot/lib/python3.9/site-packages/category_encoders/target_encoder.py:92: FutureWarning: Default parameter min_samples_leaf will change in version 2.6.See https://github.com/scikit-learn-contrib/category_encoders/issues/327\n",
      "  warnings.warn(\"Default parameter min_samples_leaf will change in version 2.6.\"\n",
      "/home/hoang/miniconda2/envs/iot/lib/python3.9/site-packages/category_encoders/target_encoder.py:97: FutureWarning: Default parameter smoothing will change in version 2.6.See https://github.com/scikit-learn-contrib/category_encoders/issues/327\n",
      "  warnings.warn(\"Default parameter smoothing will change in version 2.6.\"\n"
     ]
    },
    {
     "name": "stdout",
     "output_type": "stream",
     "text": [
      "['TCP_FLAGS', 'FLOW_DURATION_MILLISECONDS', 'IN_PKTS', 'PROTOCOL', 'IN_BYTES', 'OUT_PKTS', 'OUT_BYTES', 'L7_PROTO']\n",
      "['TCP_FLAGS', 'FLOW_DURATION_MILLISECONDS', 'IN_PKTS', 'PROTOCOL', 'IN_BYTES', 'OUT_PKTS', 'OUT_BYTES', 'L7_PROTO']\n",
      "0010 - Training acc: 0.09482943266630173\n",
      "accuracy_score: 0.09455368549686163\n",
      "roc_auc_score 0.5742949133688617\n",
      "precision_score 0.09455368549686163\n",
      "recall_score 0.09455368549686163\n",
      "f1_score 0.09455368549686163\n"
     ]
    }
   ],
   "source": [
    "cname_label = 'Attack'\n",
    "run_baseline(\n",
    "    ds_name,\n",
    "    cname_label,\n",
    "    n_epochs\n",
    ")"
   ]
  },
  {
   "cell_type": "markdown",
   "id": "71514598",
   "metadata": {},
   "source": [
    "# ToN"
   ]
  },
  {
   "cell_type": "code",
   "execution_count": 189,
   "id": "e46a6263",
   "metadata": {},
   "outputs": [],
   "source": [
    "ds_name = 'NF-ToN-IoT'\n",
    "n_epochs = 10\n",
    "device = 'cuda:0'"
   ]
  },
  {
   "cell_type": "code",
   "execution_count": null,
   "id": "e6da1649",
   "metadata": {},
   "outputs": [
    {
     "name": "stderr",
     "output_type": "stream",
     "text": [
      "/home/hoang/miniconda2/envs/iot/lib/python3.9/site-packages/category_encoders/target_encoder.py:92: FutureWarning: Default parameter min_samples_leaf will change in version 2.6.See https://github.com/scikit-learn-contrib/category_encoders/issues/327\n",
      "  warnings.warn(\"Default parameter min_samples_leaf will change in version 2.6.\"\n",
      "/home/hoang/miniconda2/envs/iot/lib/python3.9/site-packages/category_encoders/target_encoder.py:97: FutureWarning: Default parameter smoothing will change in version 2.6.See https://github.com/scikit-learn-contrib/category_encoders/issues/327\n",
      "  warnings.warn(\"Default parameter smoothing will change in version 2.6.\"\n"
     ]
    },
    {
     "name": "stdout",
     "output_type": "stream",
     "text": [
      "['TCP_FLAGS', 'FLOW_DURATION_MILLISECONDS', 'IN_PKTS', 'PROTOCOL', 'IN_BYTES', 'OUT_PKTS', 'OUT_BYTES', 'L7_PROTO']\n",
      "['TCP_FLAGS', 'FLOW_DURATION_MILLISECONDS', 'IN_PKTS', 'PROTOCOL', 'IN_BYTES', 'OUT_PKTS', 'OUT_BYTES', 'L7_PROTO']\n"
     ]
    }
   ],
   "source": [
    "cname_label = 'Label'\n",
    "run_baseline(\n",
    "    ds_name,\n",
    "    cname_label,\n",
    "    n_epochs\n",
    ")"
   ]
  },
  {
   "cell_type": "code",
   "execution_count": null,
   "id": "65a10f67",
   "metadata": {},
   "outputs": [],
   "source": [
    "cname_label = 'Attack'\n",
    "run_baseline(\n",
    "    ds_name,\n",
    "    cname_label,\n",
    "    n_epochs\n",
    ")"
   ]
  },
  {
   "cell_type": "code",
   "execution_count": null,
   "id": "36c5d196",
   "metadata": {},
   "outputs": [],
   "source": []
  },
  {
   "cell_type": "code",
   "execution_count": null,
   "id": "2c1d843d",
   "metadata": {},
   "outputs": [],
   "source": []
  },
  {
   "cell_type": "code",
   "execution_count": null,
   "id": "60f8ffd4",
   "metadata": {},
   "outputs": [],
   "source": []
  },
  {
   "cell_type": "markdown",
   "id": "7f2ce9c0",
   "metadata": {},
   "source": [
    "# Exploration"
   ]
  },
  {
   "cell_type": "code",
   "execution_count": 166,
   "id": "7c61c893",
   "metadata": {},
   "outputs": [
    {
     "name": "stdout",
     "output_type": "stream",
     "text": [
      "(600100, 16)\n"
     ]
    },
    {
     "data": {
      "text/html": [
       "<div>\n",
       "<style scoped>\n",
       "    .dataframe tbody tr th:only-of-type {\n",
       "        vertical-align: middle;\n",
       "    }\n",
       "\n",
       "    .dataframe tbody tr th {\n",
       "        vertical-align: top;\n",
       "    }\n",
       "\n",
       "    .dataframe thead th {\n",
       "        text-align: right;\n",
       "    }\n",
       "</style>\n",
       "<table border=\"1\" class=\"dataframe\">\n",
       "  <thead>\n",
       "    <tr style=\"text-align: right;\">\n",
       "      <th></th>\n",
       "      <th>IPV4_SRC_ADDR</th>\n",
       "      <th>L4_SRC_PORT</th>\n",
       "      <th>IPV4_DST_ADDR</th>\n",
       "      <th>L4_DST_PORT</th>\n",
       "      <th>PROTOCOL</th>\n",
       "      <th>L7_PROTO</th>\n",
       "      <th>IN_BYTES</th>\n",
       "      <th>OUT_BYTES</th>\n",
       "      <th>IN_PKTS</th>\n",
       "      <th>OUT_PKTS</th>\n",
       "      <th>TCP_FLAGS</th>\n",
       "      <th>FLOW_DURATION_MILLISECONDS</th>\n",
       "      <th>Label</th>\n",
       "      <th>Attack</th>\n",
       "      <th>Label_tvt</th>\n",
       "      <th>Attack_tvt</th>\n",
       "    </tr>\n",
       "  </thead>\n",
       "  <tbody>\n",
       "    <tr>\n",
       "      <th>0</th>\n",
       "      <td>192.168.100.6</td>\n",
       "      <td>52670</td>\n",
       "      <td>192.168.100.1</td>\n",
       "      <td>53</td>\n",
       "      <td>17</td>\n",
       "      <td>5.212</td>\n",
       "      <td>71</td>\n",
       "      <td>126</td>\n",
       "      <td>1</td>\n",
       "      <td>1</td>\n",
       "      <td>0</td>\n",
       "      <td>4294966</td>\n",
       "      <td>0</td>\n",
       "      <td>0</td>\n",
       "      <td>train</td>\n",
       "      <td>train</td>\n",
       "    </tr>\n",
       "    <tr>\n",
       "      <th>1</th>\n",
       "      <td>192.168.100.6</td>\n",
       "      <td>49160</td>\n",
       "      <td>192.168.100.149</td>\n",
       "      <td>4444</td>\n",
       "      <td>6</td>\n",
       "      <td>0.000</td>\n",
       "      <td>217753000</td>\n",
       "      <td>199100</td>\n",
       "      <td>4521</td>\n",
       "      <td>4049</td>\n",
       "      <td>24</td>\n",
       "      <td>4176249</td>\n",
       "      <td>1</td>\n",
       "      <td>4</td>\n",
       "      <td>test</td>\n",
       "      <td>test</td>\n",
       "    </tr>\n",
       "    <tr>\n",
       "      <th>2</th>\n",
       "      <td>192.168.100.46</td>\n",
       "      <td>3456</td>\n",
       "      <td>192.168.100.5</td>\n",
       "      <td>80</td>\n",
       "      <td>17</td>\n",
       "      <td>0.000</td>\n",
       "      <td>8508021</td>\n",
       "      <td>8918372</td>\n",
       "      <td>9086</td>\n",
       "      <td>9086</td>\n",
       "      <td>0</td>\n",
       "      <td>4175916</td>\n",
       "      <td>0</td>\n",
       "      <td>0</td>\n",
       "      <td>train</td>\n",
       "      <td>train</td>\n",
       "    </tr>\n",
       "    <tr>\n",
       "      <th>3</th>\n",
       "      <td>192.168.100.3</td>\n",
       "      <td>80</td>\n",
       "      <td>192.168.100.55</td>\n",
       "      <td>8080</td>\n",
       "      <td>6</td>\n",
       "      <td>7.000</td>\n",
       "      <td>8442138</td>\n",
       "      <td>9013406</td>\n",
       "      <td>9086</td>\n",
       "      <td>9086</td>\n",
       "      <td>0</td>\n",
       "      <td>4175916</td>\n",
       "      <td>0</td>\n",
       "      <td>0</td>\n",
       "      <td>train</td>\n",
       "      <td>train</td>\n",
       "    </tr>\n",
       "    <tr>\n",
       "      <th>4</th>\n",
       "      <td>192.168.100.46</td>\n",
       "      <td>80</td>\n",
       "      <td>192.168.100.5</td>\n",
       "      <td>80</td>\n",
       "      <td>6</td>\n",
       "      <td>7.000</td>\n",
       "      <td>8374706</td>\n",
       "      <td>0</td>\n",
       "      <td>9086</td>\n",
       "      <td>0</td>\n",
       "      <td>0</td>\n",
       "      <td>4175916</td>\n",
       "      <td>0</td>\n",
       "      <td>0</td>\n",
       "      <td>train</td>\n",
       "      <td>train</td>\n",
       "    </tr>\n",
       "  </tbody>\n",
       "</table>\n",
       "</div>"
      ],
      "text/plain": [
       "    IPV4_SRC_ADDR  L4_SRC_PORT    IPV4_DST_ADDR  L4_DST_PORT  PROTOCOL  \\\n",
       "0   192.168.100.6        52670    192.168.100.1           53        17   \n",
       "1   192.168.100.6        49160  192.168.100.149         4444         6   \n",
       "2  192.168.100.46         3456    192.168.100.5           80        17   \n",
       "3   192.168.100.3           80   192.168.100.55         8080         6   \n",
       "4  192.168.100.46           80    192.168.100.5           80         6   \n",
       "\n",
       "   L7_PROTO   IN_BYTES  OUT_BYTES  IN_PKTS  OUT_PKTS  TCP_FLAGS  \\\n",
       "0     5.212         71        126        1         1          0   \n",
       "1     0.000  217753000     199100     4521      4049         24   \n",
       "2     0.000    8508021    8918372     9086      9086          0   \n",
       "3     7.000    8442138    9013406     9086      9086          0   \n",
       "4     7.000    8374706          0     9086         0          0   \n",
       "\n",
       "   FLOW_DURATION_MILLISECONDS  Label  Attack Label_tvt Attack_tvt  \n",
       "0                     4294966      0       0     train      train  \n",
       "1                     4176249      1       4      test       test  \n",
       "2                     4175916      0       0     train      train  \n",
       "3                     4175916      0       0     train      train  \n",
       "4                     4175916      0       0     train      train  "
      ]
     },
     "execution_count": 166,
     "metadata": {},
     "output_type": "execute_result"
    }
   ],
   "source": [
    "ds_name = 'NF-BoT-IoT'\n",
    "cname_label = 'Label'\n",
    "cname_tvt = f'{cname_label}_tvt'\n",
    "n_epochs = 10\n",
    "device = 'cuda:0'\n",
    "\n",
    "data = pd.read_csv(f'../datasets/{ds_name}_tvt.csv')\n",
    "label2idx = pd.read_pickle(f'../datasets/{ds_name}_graph_multi.pkl')['label2idx']\n",
    "data['Attack'] = data['Attack'].map(label2idx)\n",
    "\n",
    "print(data.shape)\n",
    "data.head()"
   ]
  },
  {
   "cell_type": "code",
   "execution_count": 167,
   "id": "ce4fcb9f",
   "metadata": {},
   "outputs": [],
   "source": [
    "data['IPV4_SRC_ADDR'] = data.IPV4_SRC_ADDR.apply(\n",
    "    lambda x: socket.inet_ntoa(struct.pack('>I', random.randint(0xac100001, 0xac1f0001))))\n",
    "data['IPV4_SRC_ADDR'] = data.IPV4_SRC_ADDR.apply(str)\n",
    "data['L4_SRC_PORT'] = data.L4_SRC_PORT.apply(str)\n",
    "data['IPV4_DST_ADDR'] = data.IPV4_DST_ADDR.apply(str)\n",
    "data['L4_DST_PORT'] = data.L4_DST_PORT.apply(str)\n",
    "\n",
    "data['IPV4_SRC_ADDR'] = data['IPV4_SRC_ADDR'] + ':' + data['L4_SRC_PORT']\n",
    "data['IPV4_DST_ADDR'] = data['IPV4_DST_ADDR'] + ':' + data['L4_DST_PORT']\n",
    "\n",
    "data.drop(columns=['L4_SRC_PORT','L4_DST_PORT'], inplace=True)"
   ]
  },
  {
   "cell_type": "code",
   "execution_count": 168,
   "id": "5dd37c89",
   "metadata": {},
   "outputs": [],
   "source": [
    "X_cnames = [c for c in data.columns if c not in ['Label_tvt', 'Attack_tvt']]\n",
    "X_train, X_test, y_train, y_test = (data[data[cname_tvt]!='test'][X_cnames], \n",
    "                                    data[data[cname_tvt]=='test'][X_cnames], \n",
    "                                    data[data[cname_tvt]!='test'][cname_label], \n",
    "                                    data[data[cname_tvt]=='test'][cname_label])"
   ]
  },
  {
   "cell_type": "code",
   "execution_count": 169,
   "id": "d64f3f0e",
   "metadata": {},
   "outputs": [
    {
     "name": "stderr",
     "output_type": "stream",
     "text": [
      "/home/hoang/miniconda2/envs/iot/lib/python3.9/site-packages/category_encoders/target_encoder.py:92: FutureWarning: Default parameter min_samples_leaf will change in version 2.6.See https://github.com/scikit-learn-contrib/category_encoders/issues/327\n",
      "  warnings.warn(\"Default parameter min_samples_leaf will change in version 2.6.\"\n",
      "/home/hoang/miniconda2/envs/iot/lib/python3.9/site-packages/category_encoders/target_encoder.py:97: FutureWarning: Default parameter smoothing will change in version 2.6.See https://github.com/scikit-learn-contrib/category_encoders/issues/327\n",
      "  warnings.warn(\"Default parameter smoothing will change in version 2.6.\"\n"
     ]
    },
    {
     "name": "stdout",
     "output_type": "stream",
     "text": [
      "['TCP_FLAGS', 'FLOW_DURATION_MILLISECONDS', 'IN_PKTS', 'PROTOCOL', 'IN_BYTES', 'OUT_PKTS', 'OUT_BYTES', 'L7_PROTO']\n",
      "['TCP_FLAGS', 'FLOW_DURATION_MILLISECONDS', 'IN_PKTS', 'PROTOCOL', 'IN_BYTES', 'OUT_PKTS', 'OUT_BYTES', 'L7_PROTO']\n"
     ]
    }
   ],
   "source": [
    "cols_to_norm = list(set(X_train.columns) - set(['Label', 'Attack', 'IPV4_SRC_ADDR', 'IPV4_DST_ADDR']))\n",
    "scaler = StandardScaler()\n",
    "scaler.fit(X_train[cols_to_norm])\n",
    "encoder = ce.TargetEncoder(cols=['TCP_FLAGS','L7_PROTO','PROTOCOL'])\n",
    "encoder.fit(X_train, y_train)\n",
    "\n",
    "G_train = build_graph(scaler, encoder, X_train, y_train, cols_to_norm)\n",
    "G_test = build_graph(scaler, encoder, X_test, y_test, cols_to_norm)\n",
    "\n",
    "node_features = G_train.ndata['h']\n",
    "edge_features = G_train.edata['h']\n",
    "\n",
    "node_features_test = G_test.ndata['h']\n",
    "edge_features_test = G_test.edata['h']"
   ]
  },
  {
   "cell_type": "code",
   "execution_count": 170,
   "id": "d8d8e069",
   "metadata": {},
   "outputs": [],
   "source": [
    "ndim_in = G_train.ndata['h'].shape[2]\n",
    "ndim_out = 128 \n",
    "edim = G_train.ndata['h'].shape[2]\n",
    "activation = F.relu\n",
    "dropout = 0.2\n",
    "n_classes = data[cname_label].nunique()\n",
    "\n",
    "sage = SAGE(ndim_in, ndim_out, edim, activation, dropout).to(device)\n",
    "mlp = MLPPredictor(ndim_out, 2).to(device)\n",
    "model = Model(ndim_in, ndim_out, edim, n_classes, activation, dropout).to(device)\n",
    "opt = torch.optim.Adam(model.parameters())\n",
    "\n",
    "class_weights = class_weight.compute_class_weight(\n",
    "    'balanced', \n",
    "    classes=data[cname_label].unique(),\n",
    "    y=data[cname_label].values.tolist(),\n",
    ")\n",
    "class_weights = torch.FloatTensor(class_weights).to(device)\n",
    "criterion = nn.CrossEntropyLoss(weight=class_weights)"
   ]
  },
  {
   "cell_type": "code",
   "execution_count": 171,
   "id": "2dc4c9c8",
   "metadata": {
    "scrolled": true
   },
   "outputs": [
    {
     "name": "stdout",
     "output_type": "stream",
     "text": [
      "0010 - Training acc: 0.8383662104606628\n"
     ]
    }
   ],
   "source": [
    "edge_label = G_train.edata[cname_label]\n",
    "train_mask = G_train.edata['train_mask']\n",
    "\n",
    "for epoch in range(1, n_epochs+1):\n",
    "    pred = model(G_train, node_features, edge_features).to(device)\n",
    "    loss = criterion(pred[train_mask], edge_label[train_mask])\n",
    "    opt.zero_grad()\n",
    "    loss.backward()\n",
    "    opt.step()\n",
    "    if epoch % 10 == 0:\n",
    "        print(f'{epoch:04d} - Training acc:', compute_accuracy(pred[train_mask], edge_label[train_mask]))"
   ]
  },
  {
   "cell_type": "code",
   "execution_count": 172,
   "id": "2ec33433",
   "metadata": {},
   "outputs": [],
   "source": [
    "test_pred_prop = model(G_test, node_features_test, edge_features_test).to(device)\n",
    "test_pred = test_pred_prop.argmax(1)\n",
    "test_pred = torch.Tensor.cpu(test_pred).detach().numpy()\n",
    "actual = G_test.edata.pop(cname_label)\n",
    "\n",
    "# actual = [\"Normal\" if i == 0 else \"Attack\" for i in actual]\n",
    "# test_pred = [\"Normal\" if i == 0 else \"Attack\" for i in test_pred]\n",
    "\n",
    "actual_1 = [i.item() for i in actual]\n",
    "test_pred_1 = [i for i in test_pred]"
   ]
  },
  {
   "cell_type": "code",
   "execution_count": 173,
   "id": "0c203bf6",
   "metadata": {},
   "outputs": [],
   "source": [
    "norm_test_pred_prop = torch.softmax(test_pred_prop, dim=1)"
   ]
  },
  {
   "cell_type": "code",
   "execution_count": 176,
   "id": "9c7b110c",
   "metadata": {},
   "outputs": [
    {
     "data": {
      "text/plain": [
       "tensor([[ 5.0102e+01, -2.0193e+01],\n",
       "        [ 4.6777e+01, -2.5275e+01],\n",
       "        [ 2.1044e+01, -1.0978e+01],\n",
       "        ...,\n",
       "        [ 1.3861e+00, -9.9944e-01],\n",
       "        [ 2.3370e+00, -2.2723e+00],\n",
       "        [-1.7419e-01,  9.2416e-03]], device='cuda:0', grad_fn=<AddmmBackward0>)"
      ]
     },
     "execution_count": 176,
     "metadata": {},
     "output_type": "execute_result"
    }
   ],
   "source": [
    "test_pred_prop"
   ]
  },
  {
   "cell_type": "code",
   "execution_count": 175,
   "id": "68a5bd8f",
   "metadata": {},
   "outputs": [
    {
     "data": {
      "text/plain": [
       "tensor([[1.0000e+00, 2.9613e-31],\n",
       "        [1.0000e+00, 5.1087e-32],\n",
       "        [1.0000e+00, 1.2398e-14],\n",
       "        ...,\n",
       "        [9.1572e-01, 8.4278e-02],\n",
       "        [9.9014e-01, 9.8600e-03],\n",
       "        [4.5427e-01, 5.4573e-01]], device='cuda:0', grad_fn=<SoftmaxBackward0>)"
      ]
     },
     "execution_count": 175,
     "metadata": {},
     "output_type": "execute_result"
    }
   ],
   "source": [
    "norm_test_pred_prop"
   ]
  },
  {
   "cell_type": "code",
   "execution_count": 182,
   "id": "4062581f",
   "metadata": {},
   "outputs": [
    {
     "data": {
      "text/plain": [
       "0.5734023285218188"
      ]
     },
     "execution_count": 182,
     "metadata": {},
     "output_type": "execute_result"
    }
   ],
   "source": [
    "roc_auc_score(actual_1, test_pred_prop[:, 1].detach().cpu(), multi_class='raise', average='macro')"
   ]
  },
  {
   "cell_type": "code",
   "execution_count": 174,
   "id": "3a5a984c",
   "metadata": {},
   "outputs": [
    {
     "name": "stdout",
     "output_type": "stream",
     "text": [
      "accuracy_score: 0.8009526190079431\n"
     ]
    },
    {
     "ename": "ValueError",
     "evalue": "y should be a 1d array, got an array of shape (360060, 2) instead.",
     "output_type": "error",
     "traceback": [
      "\u001b[0;31m---------------------------------------------------------------------------\u001b[0m",
      "\u001b[0;31mValueError\u001b[0m                                Traceback (most recent call last)",
      "Cell \u001b[0;32mIn [174], line 8\u001b[0m\n\u001b[1;32m      5\u001b[0m \u001b[38;5;28mprint\u001b[39m(\u001b[38;5;124m'\u001b[39m\u001b[38;5;124maccuracy_score:\u001b[39m\u001b[38;5;124m'\u001b[39m, accuracy_score(actual_1, test_pred_1))\n\u001b[1;32m      7\u001b[0m \u001b[38;5;66;03m# - AUC\u001b[39;00m\n\u001b[0;32m----> 8\u001b[0m \u001b[38;5;28mprint\u001b[39m(\u001b[38;5;124m'\u001b[39m\u001b[38;5;124mroc_auc_score\u001b[39m\u001b[38;5;124m'\u001b[39m, \u001b[43mroc_auc_score\u001b[49m\u001b[43m(\u001b[49m\u001b[43mactual_1\u001b[49m\u001b[43m,\u001b[49m\u001b[43m \u001b[49m\u001b[43mnorm_test_pred_prop\u001b[49m\u001b[38;5;241;43m.\u001b[39;49m\u001b[43mdetach\u001b[49m\u001b[43m(\u001b[49m\u001b[43m)\u001b[49m\u001b[38;5;241;43m.\u001b[39;49m\u001b[43mcpu\u001b[49m\u001b[43m(\u001b[49m\u001b[43m)\u001b[49m\u001b[43m,\u001b[49m\u001b[43m \u001b[49m\u001b[43mmulti_class\u001b[49m\u001b[38;5;241;43m=\u001b[39;49m\u001b[38;5;124;43m'\u001b[39;49m\u001b[38;5;124;43movr\u001b[39;49m\u001b[38;5;124;43m'\u001b[39;49m\u001b[43m,\u001b[49m\u001b[43m \u001b[49m\u001b[43maverage\u001b[49m\u001b[38;5;241;43m=\u001b[39;49m\u001b[38;5;124;43m'\u001b[39;49m\u001b[38;5;124;43mmacro\u001b[39;49m\u001b[38;5;124;43m'\u001b[39;49m\u001b[43m)\u001b[49m)\n\u001b[1;32m     10\u001b[0m \u001b[38;5;66;03m# - Precision\u001b[39;00m\n\u001b[1;32m     11\u001b[0m \u001b[38;5;28mprint\u001b[39m(\u001b[38;5;124m'\u001b[39m\u001b[38;5;124mprecision_score\u001b[39m\u001b[38;5;124m'\u001b[39m, precision_score(actual_1, test_pred_1, average\u001b[38;5;241m=\u001b[39m\u001b[38;5;124m'\u001b[39m\u001b[38;5;124mmicro\u001b[39m\u001b[38;5;124m'\u001b[39m))\n",
      "File \u001b[0;32m~/miniconda2/envs/iot/lib/python3.9/site-packages/sklearn/metrics/_ranking.py:567\u001b[0m, in \u001b[0;36mroc_auc_score\u001b[0;34m(y_true, y_score, average, sample_weight, max_fpr, multi_class, labels)\u001b[0m\n\u001b[1;32m    565\u001b[0m     labels \u001b[38;5;241m=\u001b[39m np\u001b[38;5;241m.\u001b[39munique(y_true)\n\u001b[1;32m    566\u001b[0m     y_true \u001b[38;5;241m=\u001b[39m label_binarize(y_true, classes\u001b[38;5;241m=\u001b[39mlabels)[:, \u001b[38;5;241m0\u001b[39m]\n\u001b[0;32m--> 567\u001b[0m     \u001b[38;5;28;01mreturn\u001b[39;00m \u001b[43m_average_binary_score\u001b[49m\u001b[43m(\u001b[49m\n\u001b[1;32m    568\u001b[0m \u001b[43m        \u001b[49m\u001b[43mpartial\u001b[49m\u001b[43m(\u001b[49m\u001b[43m_binary_roc_auc_score\u001b[49m\u001b[43m,\u001b[49m\u001b[43m \u001b[49m\u001b[43mmax_fpr\u001b[49m\u001b[38;5;241;43m=\u001b[39;49m\u001b[43mmax_fpr\u001b[49m\u001b[43m)\u001b[49m\u001b[43m,\u001b[49m\n\u001b[1;32m    569\u001b[0m \u001b[43m        \u001b[49m\u001b[43my_true\u001b[49m\u001b[43m,\u001b[49m\n\u001b[1;32m    570\u001b[0m \u001b[43m        \u001b[49m\u001b[43my_score\u001b[49m\u001b[43m,\u001b[49m\n\u001b[1;32m    571\u001b[0m \u001b[43m        \u001b[49m\u001b[43maverage\u001b[49m\u001b[43m,\u001b[49m\n\u001b[1;32m    572\u001b[0m \u001b[43m        \u001b[49m\u001b[43msample_weight\u001b[49m\u001b[38;5;241;43m=\u001b[39;49m\u001b[43msample_weight\u001b[49m\u001b[43m,\u001b[49m\n\u001b[1;32m    573\u001b[0m \u001b[43m    \u001b[49m\u001b[43m)\u001b[49m\n\u001b[1;32m    574\u001b[0m \u001b[38;5;28;01melse\u001b[39;00m:  \u001b[38;5;66;03m# multilabel-indicator\u001b[39;00m\n\u001b[1;32m    575\u001b[0m     \u001b[38;5;28;01mreturn\u001b[39;00m _average_binary_score(\n\u001b[1;32m    576\u001b[0m         partial(_binary_roc_auc_score, max_fpr\u001b[38;5;241m=\u001b[39mmax_fpr),\n\u001b[1;32m    577\u001b[0m         y_true,\n\u001b[0;32m   (...)\u001b[0m\n\u001b[1;32m    580\u001b[0m         sample_weight\u001b[38;5;241m=\u001b[39msample_weight,\n\u001b[1;32m    581\u001b[0m     )\n",
      "File \u001b[0;32m~/miniconda2/envs/iot/lib/python3.9/site-packages/sklearn/metrics/_base.py:75\u001b[0m, in \u001b[0;36m_average_binary_score\u001b[0;34m(binary_metric, y_true, y_score, average, sample_weight)\u001b[0m\n\u001b[1;32m     72\u001b[0m     \u001b[38;5;28;01mraise\u001b[39;00m \u001b[38;5;167;01mValueError\u001b[39;00m(\u001b[38;5;124m\"\u001b[39m\u001b[38;5;132;01m{0}\u001b[39;00m\u001b[38;5;124m format is not supported\u001b[39m\u001b[38;5;124m\"\u001b[39m\u001b[38;5;241m.\u001b[39mformat(y_type))\n\u001b[1;32m     74\u001b[0m \u001b[38;5;28;01mif\u001b[39;00m y_type \u001b[38;5;241m==\u001b[39m \u001b[38;5;124m\"\u001b[39m\u001b[38;5;124mbinary\u001b[39m\u001b[38;5;124m\"\u001b[39m:\n\u001b[0;32m---> 75\u001b[0m     \u001b[38;5;28;01mreturn\u001b[39;00m \u001b[43mbinary_metric\u001b[49m\u001b[43m(\u001b[49m\u001b[43my_true\u001b[49m\u001b[43m,\u001b[49m\u001b[43m \u001b[49m\u001b[43my_score\u001b[49m\u001b[43m,\u001b[49m\u001b[43m \u001b[49m\u001b[43msample_weight\u001b[49m\u001b[38;5;241;43m=\u001b[39;49m\u001b[43msample_weight\u001b[49m\u001b[43m)\u001b[49m\n\u001b[1;32m     77\u001b[0m check_consistent_length(y_true, y_score, sample_weight)\n\u001b[1;32m     78\u001b[0m y_true \u001b[38;5;241m=\u001b[39m check_array(y_true)\n",
      "File \u001b[0;32m~/miniconda2/envs/iot/lib/python3.9/site-packages/sklearn/metrics/_ranking.py:342\u001b[0m, in \u001b[0;36m_binary_roc_auc_score\u001b[0;34m(y_true, y_score, sample_weight, max_fpr)\u001b[0m\n\u001b[1;32m    336\u001b[0m \u001b[38;5;28;01mif\u001b[39;00m \u001b[38;5;28mlen\u001b[39m(np\u001b[38;5;241m.\u001b[39munique(y_true)) \u001b[38;5;241m!=\u001b[39m \u001b[38;5;241m2\u001b[39m:\n\u001b[1;32m    337\u001b[0m     \u001b[38;5;28;01mraise\u001b[39;00m \u001b[38;5;167;01mValueError\u001b[39;00m(\n\u001b[1;32m    338\u001b[0m         \u001b[38;5;124m\"\u001b[39m\u001b[38;5;124mOnly one class present in y_true. ROC AUC score \u001b[39m\u001b[38;5;124m\"\u001b[39m\n\u001b[1;32m    339\u001b[0m         \u001b[38;5;124m\"\u001b[39m\u001b[38;5;124mis not defined in that case.\u001b[39m\u001b[38;5;124m\"\u001b[39m\n\u001b[1;32m    340\u001b[0m     )\n\u001b[0;32m--> 342\u001b[0m fpr, tpr, _ \u001b[38;5;241m=\u001b[39m \u001b[43mroc_curve\u001b[49m\u001b[43m(\u001b[49m\u001b[43my_true\u001b[49m\u001b[43m,\u001b[49m\u001b[43m \u001b[49m\u001b[43my_score\u001b[49m\u001b[43m,\u001b[49m\u001b[43m \u001b[49m\u001b[43msample_weight\u001b[49m\u001b[38;5;241;43m=\u001b[39;49m\u001b[43msample_weight\u001b[49m\u001b[43m)\u001b[49m\n\u001b[1;32m    343\u001b[0m \u001b[38;5;28;01mif\u001b[39;00m max_fpr \u001b[38;5;129;01mis\u001b[39;00m \u001b[38;5;28;01mNone\u001b[39;00m \u001b[38;5;129;01mor\u001b[39;00m max_fpr \u001b[38;5;241m==\u001b[39m \u001b[38;5;241m1\u001b[39m:\n\u001b[1;32m    344\u001b[0m     \u001b[38;5;28;01mreturn\u001b[39;00m auc(fpr, tpr)\n",
      "File \u001b[0;32m~/miniconda2/envs/iot/lib/python3.9/site-packages/sklearn/metrics/_ranking.py:962\u001b[0m, in \u001b[0;36mroc_curve\u001b[0;34m(y_true, y_score, pos_label, sample_weight, drop_intermediate)\u001b[0m\n\u001b[1;32m    873\u001b[0m \u001b[38;5;28;01mdef\u001b[39;00m \u001b[38;5;21mroc_curve\u001b[39m(\n\u001b[1;32m    874\u001b[0m     y_true, y_score, \u001b[38;5;241m*\u001b[39m, pos_label\u001b[38;5;241m=\u001b[39m\u001b[38;5;28;01mNone\u001b[39;00m, sample_weight\u001b[38;5;241m=\u001b[39m\u001b[38;5;28;01mNone\u001b[39;00m, drop_intermediate\u001b[38;5;241m=\u001b[39m\u001b[38;5;28;01mTrue\u001b[39;00m\n\u001b[1;32m    875\u001b[0m ):\n\u001b[1;32m    876\u001b[0m     \u001b[38;5;124;03m\"\"\"Compute Receiver operating characteristic (ROC).\u001b[39;00m\n\u001b[1;32m    877\u001b[0m \n\u001b[1;32m    878\u001b[0m \u001b[38;5;124;03m    Note: this implementation is restricted to the binary classification task.\u001b[39;00m\n\u001b[0;32m   (...)\u001b[0m\n\u001b[1;32m    960\u001b[0m \n\u001b[1;32m    961\u001b[0m \u001b[38;5;124;03m    \"\"\"\u001b[39;00m\n\u001b[0;32m--> 962\u001b[0m     fps, tps, thresholds \u001b[38;5;241m=\u001b[39m \u001b[43m_binary_clf_curve\u001b[49m\u001b[43m(\u001b[49m\n\u001b[1;32m    963\u001b[0m \u001b[43m        \u001b[49m\u001b[43my_true\u001b[49m\u001b[43m,\u001b[49m\u001b[43m \u001b[49m\u001b[43my_score\u001b[49m\u001b[43m,\u001b[49m\u001b[43m \u001b[49m\u001b[43mpos_label\u001b[49m\u001b[38;5;241;43m=\u001b[39;49m\u001b[43mpos_label\u001b[49m\u001b[43m,\u001b[49m\u001b[43m \u001b[49m\u001b[43msample_weight\u001b[49m\u001b[38;5;241;43m=\u001b[39;49m\u001b[43msample_weight\u001b[49m\n\u001b[1;32m    964\u001b[0m \u001b[43m    \u001b[49m\u001b[43m)\u001b[49m\n\u001b[1;32m    966\u001b[0m     \u001b[38;5;66;03m# Attempt to drop thresholds corresponding to points in between and\u001b[39;00m\n\u001b[1;32m    967\u001b[0m     \u001b[38;5;66;03m# collinear with other points. These are always suboptimal and do not\u001b[39;00m\n\u001b[1;32m    968\u001b[0m     \u001b[38;5;66;03m# appear on a plotted ROC curve (and thus do not affect the AUC).\u001b[39;00m\n\u001b[0;32m   (...)\u001b[0m\n\u001b[1;32m    973\u001b[0m     \u001b[38;5;66;03m# but does not drop more complicated cases like fps = [1, 3, 7],\u001b[39;00m\n\u001b[1;32m    974\u001b[0m     \u001b[38;5;66;03m# tps = [1, 2, 4]; there is no harm in keeping too many thresholds.\u001b[39;00m\n\u001b[1;32m    975\u001b[0m     \u001b[38;5;28;01mif\u001b[39;00m drop_intermediate \u001b[38;5;129;01mand\u001b[39;00m \u001b[38;5;28mlen\u001b[39m(fps) \u001b[38;5;241m>\u001b[39m \u001b[38;5;241m2\u001b[39m:\n",
      "File \u001b[0;32m~/miniconda2/envs/iot/lib/python3.9/site-packages/sklearn/metrics/_ranking.py:735\u001b[0m, in \u001b[0;36m_binary_clf_curve\u001b[0;34m(y_true, y_score, pos_label, sample_weight)\u001b[0m\n\u001b[1;32m    733\u001b[0m check_consistent_length(y_true, y_score, sample_weight)\n\u001b[1;32m    734\u001b[0m y_true \u001b[38;5;241m=\u001b[39m column_or_1d(y_true)\n\u001b[0;32m--> 735\u001b[0m y_score \u001b[38;5;241m=\u001b[39m \u001b[43mcolumn_or_1d\u001b[49m\u001b[43m(\u001b[49m\u001b[43my_score\u001b[49m\u001b[43m)\u001b[49m\n\u001b[1;32m    736\u001b[0m assert_all_finite(y_true)\n\u001b[1;32m    737\u001b[0m assert_all_finite(y_score)\n",
      "File \u001b[0;32m~/miniconda2/envs/iot/lib/python3.9/site-packages/sklearn/utils/validation.py:1038\u001b[0m, in \u001b[0;36mcolumn_or_1d\u001b[0;34m(y, warn)\u001b[0m\n\u001b[1;32m   1029\u001b[0m         warnings\u001b[38;5;241m.\u001b[39mwarn(\n\u001b[1;32m   1030\u001b[0m             \u001b[38;5;124m\"\u001b[39m\u001b[38;5;124mA column-vector y was passed when a 1d array was\u001b[39m\u001b[38;5;124m\"\u001b[39m\n\u001b[1;32m   1031\u001b[0m             \u001b[38;5;124m\"\u001b[39m\u001b[38;5;124m expected. Please change the shape of y to \u001b[39m\u001b[38;5;124m\"\u001b[39m\n\u001b[0;32m   (...)\u001b[0m\n\u001b[1;32m   1034\u001b[0m             stacklevel\u001b[38;5;241m=\u001b[39m\u001b[38;5;241m2\u001b[39m,\n\u001b[1;32m   1035\u001b[0m         )\n\u001b[1;32m   1036\u001b[0m     \u001b[38;5;28;01mreturn\u001b[39;00m np\u001b[38;5;241m.\u001b[39mravel(y)\n\u001b[0;32m-> 1038\u001b[0m \u001b[38;5;28;01mraise\u001b[39;00m \u001b[38;5;167;01mValueError\u001b[39;00m(\n\u001b[1;32m   1039\u001b[0m     \u001b[38;5;124m\"\u001b[39m\u001b[38;5;124my should be a 1d array, got an array of shape \u001b[39m\u001b[38;5;132;01m{}\u001b[39;00m\u001b[38;5;124m instead.\u001b[39m\u001b[38;5;124m\"\u001b[39m\u001b[38;5;241m.\u001b[39mformat(shape)\n\u001b[1;32m   1040\u001b[0m )\n",
      "\u001b[0;31mValueError\u001b[0m: y should be a 1d array, got an array of shape (360060, 2) instead."
     ]
    }
   ],
   "source": [
    "from sklearn.metrics import accuracy_score, roc_auc_score, precision_score, recall_score, f1_score\n",
    "\n",
    "# # evaluation metrics\n",
    "# - Acc\n",
    "print('accuracy_score:', accuracy_score(actual_1, test_pred_1))\n",
    "\n",
    "# - AUC\n",
    "print('roc_auc_score', roc_auc_score(actual_1, norm_test_pred_prop.detach().cpu(), multi_class='ovr', average='macro'))\n",
    "\n",
    "# - Precision\n",
    "print('precision_score', precision_score(actual_1, test_pred_1, average='micro'))\n",
    "\n",
    "# - Recall\n",
    "print('recall_score', recall_score(actual_1, test_pred_1, average='micro'))\n",
    "\n",
    "# - F1-score\n",
    "print('f1_score', f1_score(actual_1, test_pred_1, average='micro'))"
   ]
  },
  {
   "cell_type": "markdown",
   "id": "ef83ad67",
   "metadata": {},
   "source": [
    "# ToN"
   ]
  },
  {
   "cell_type": "code",
   "execution_count": 58,
   "id": "1bb42b7d",
   "metadata": {},
   "outputs": [],
   "source": [
    "ds_name = 'NF-ToN-IoT'\n",
    "data = pd.read_csv(f'../datasets/{ds_name}_tvt.csv')"
   ]
  },
  {
   "cell_type": "code",
   "execution_count": 59,
   "id": "211eadde",
   "metadata": {},
   "outputs": [
    {
     "data": {
      "text/plain": [
       "injection     468539\n",
       "ddos          326345\n",
       "Benign        270279\n",
       "password      156299\n",
       "xss            99944\n",
       "scanning       21467\n",
       "dos            17717\n",
       "backdoor       17247\n",
       "mitm            1295\n",
       "ransomware       142\n",
       "Name: Attack, dtype: int64"
      ]
     },
     "execution_count": 59,
     "metadata": {},
     "output_type": "execute_result"
    }
   ],
   "source": [
    "data['Attack'].value_counts()"
   ]
  }
 ],
 "metadata": {
  "kernelspec": {
   "display_name": "Python 3 (ipykernel)",
   "language": "python",
   "name": "python3"
  },
  "language_info": {
   "codemirror_mode": {
    "name": "ipython",
    "version": 3
   },
   "file_extension": ".py",
   "mimetype": "text/x-python",
   "name": "python",
   "nbconvert_exporter": "python",
   "pygments_lexer": "ipython3",
   "version": "3.9.15"
  },
  "toc": {
   "base_numbering": 1,
   "nav_menu": {},
   "number_sections": true,
   "sideBar": true,
   "skip_h1_title": false,
   "title_cell": "Table of Contents",
   "title_sidebar": "Contents",
   "toc_cell": false,
   "toc_position": {
    "height": "calc(100% - 180px)",
    "left": "10px",
    "top": "150px",
    "width": "222px"
   },
   "toc_section_display": true,
   "toc_window_display": true
  }
 },
 "nbformat": 4,
 "nbformat_minor": 5
}
