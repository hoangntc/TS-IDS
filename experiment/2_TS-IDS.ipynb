{
 "cells": [
  {
   "cell_type": "code",
   "execution_count": 1,
   "id": "94bb3daa",
   "metadata": {},
   "outputs": [
    {
     "name": "stdout",
     "output_type": "stream",
     "text": [
      "PROJ_PATH=/home/hoang/github/TS-IDS\n"
     ]
    }
   ],
   "source": [
    "%load_ext autoreload\n",
    "%autoreload 2\n",
    "\n",
    "import os, sys, re, datetime, random, gzip, json, copy\n",
    "import tqdm\n",
    "import pandas as pd\n",
    "import numpy as np\n",
    "import glob\n",
    "from pathlib import Path\n",
    "from itertools import accumulate\n",
    "import argparse\n",
    "from time import time\n",
    "from math import ceil\n",
    "from collections import Counter\n",
    "\n",
    "import torch\n",
    "import torch.nn as nn\n",
    "import torch.optim as optim\n",
    "import torch.nn.functional as F\n",
    "from torch.nn import Linear\n",
    "\n",
    "import pytorch_lightning as pl\n",
    "from pytorch_lightning.trainer.trainer import Trainer\n",
    "from pytorch_lightning.callbacks import ModelCheckpoint, EarlyStopping\n",
    "from pytorch_lightning.utilities.seed import seed_everything\n",
    "\n",
    "from torch_geometric.data import Data, LightningLinkData\n",
    "from torch_geometric.loader import DataLoader\n",
    "from torch_geometric.nn import Sequential, HeteroConv, GINConv, GCNConv, SAGEConv, GATConv, TransformerConv\n",
    "\n",
    "from sklearn.metrics import f1_score, accuracy_score, top_k_accuracy_score, roc_auc_score\n",
    "from sklearn.utils import class_weight\n",
    "\n",
    "PROJ_PATH = Path(os.path.join(re.sub(\"/TS-IDS.*$\", '', os.getcwd()), 'TS-IDS'))\n",
    "print(f'PROJ_PATH={PROJ_PATH}')\n",
    "sys.path.insert(1, str(PROJ_PATH))\n",
    "sys.path.insert(1, str(PROJ_PATH/'src'))\n",
    "import utils\n",
    "from utils import *\n",
    "from dataset import build_datamodule\n",
    "from trainer import build_trainer\n",
    "from model import TSIDS\n",
    "from pipeline import TSIDSPipeline"
   ]
  },
  {
   "cell_type": "code",
   "execution_count": 2,
   "id": "dc2f2159",
   "metadata": {},
   "outputs": [
    {
     "name": "stdout",
     "output_type": "stream",
     "text": [
      "nf_bot_binary\n",
      "torch.Size([77177, 8]) torch.Size([2, 600100]) torch.Size([600100, 8])\n",
      "tensor(False) tensor(False) tensor(False)\n",
      "[0 1]\n",
      "[21.6517535   0.51181935]\n",
      "Counter({1: 293121, 0: 6929})\n",
      "\n",
      "\n",
      "nf_bot_multi\n",
      "torch.Size([77177, 32]) torch.Size([2, 600100]) torch.Size([600100, 8])\n",
      "tensor(False) tensor(False) tensor(False)\n",
      "[0 1 2 3 4]\n",
      "[ 8.6607014   2.10465402  2.12086941  0.25499386 61.61190965]\n",
      "Counter({3: 235339, 1: 28513, 2: 28295, 0: 6929, 4: 974})\n",
      "\n",
      "\n",
      "nf_ton_binary\n",
      "torch.Size([169562, 8]) torch.Size([2, 1379274]) torch.Size([1379274, 8])\n",
      "tensor(False) tensor(False) tensor(False)\n",
      "[0 1]\n",
      "[2.55158762 0.62185685]\n",
      "Counter({1: 554499, 0: 135139})\n",
      "\n",
      "\n",
      "nf_ton_multi\n",
      "torch.Size([169562, 72]) torch.Size([2, 1379274]) torch.Size([1379274, 8])\n",
      "tensor(False) tensor(False) tensor(False)\n",
      "[0 1 2 3 4 5 6 7 8 9]\n",
      "[5.10317525e-01 8.01531846e+00 4.23311543e-01 7.82612347e+00\n",
      " 2.94324661e-01 1.08433648e+02 8.77558344e-01 8.51404938e+02\n",
      " 6.40272955e+00 1.38531598e+00]\n",
      "Counter({4: 234312, 2: 162915, 0: 135139, 6: 78586, 9: 49782, 8: 10771, 3: 8812, 1: 8604, 5: 636, 7: 81})\n",
      "\n",
      "\n"
     ]
    }
   ],
   "source": [
    "ds_names = ['nf_bot_binary', 'nf_bot_multi', 'nf_ton_binary', 'nf_ton_multi']\n",
    "for name in ds_names:\n",
    "    print(name)\n",
    "    ###\n",
    "    config_path = str(PROJ_PATH / f'src/config/{name}.json')\n",
    "    data_config = utils.read_json(config_path)\n",
    "    g_data = pd.read_pickle(\n",
    "        os.path.join(data_config['root'], data_config['ds_name']+'.pkl'))\n",
    "    x = torch.tensor(g_data['n_features'], dtype=torch.float)\n",
    "    edge_index = torch.tensor(g_data['edge_index'], dtype=torch.long)\n",
    "    edge_attr = torch.tensor(g_data['e_features'], dtype=torch.float)\n",
    "    y = torch.tensor(g_data['node_label'], dtype=torch.long)\n",
    "    input_train_edges = torch.tensor(g_data['edge_index'][:, np.where(g_data['tvt']=='train')[0]], dtype=torch.long)\n",
    "    input_train_labels = torch.tensor(g_data['edge_label'][np.where(g_data['tvt']=='train')[0]], dtype=torch.long)\n",
    "    input_val_edges = torch.tensor(g_data['edge_index'][:, np.where(g_data['tvt']=='val')[0]], dtype=torch.long)\n",
    "    input_val_labels = torch.tensor(g_data['edge_label'][np.where(g_data['tvt']=='val')[0]], dtype=torch.long)\n",
    "    input_test_edges = torch.tensor(g_data['edge_index'][:, np.where(g_data['tvt']=='test')[0]], dtype=torch.long)\n",
    "    input_test_labels = torch.tensor(g_data['edge_label'][np.where(g_data['tvt']=='test')[0]], dtype=torch.long)\n",
    "    ###\n",
    "    print(x.shape, edge_index.shape, edge_attr.shape)\n",
    "    print(torch.isnan(x).any(), torch.isnan(edge_index).any(), torch.isnan(edge_attr).any())\n",
    "    ###\n",
    "    classes = np.unique(input_train_labels)\n",
    "    y = input_train_labels.cpu().numpy()\n",
    "    class_weights = class_weight.compute_class_weight(\n",
    "        class_weight='balanced', classes=classes, y=y)\n",
    "    print(classes)\n",
    "    print(class_weights)\n",
    "    print(Counter(input_train_labels.cpu().numpy()))\n",
    "    print('\\n')"
   ]
  },
  {
   "cell_type": "code",
   "execution_count": 1,
   "id": "8e12ccd4",
   "metadata": {},
   "outputs": [],
   "source": [
    "# ds_names = ['nf_bot_binary', 'nf_bot_multi', 'nf_ton_binary', 'nf_ton_multi']\n",
    "# name = ds_names[0]\n",
    "# config_path = str(PROJ_PATH / f'src/config/{name}.json')\n",
    "# tsids = TSIDSPipeline(config_path=config_path)\n",
    "# data_module, model_module, trainer = tsids.initialize()\n",
    "# tsids.train(data_module, model_module, trainer)"
   ]
  }
 ],
 "metadata": {
  "kernelspec": {
   "display_name": "Python 3 (ipykernel)",
   "language": "python",
   "name": "python3"
  },
  "language_info": {
   "codemirror_mode": {
    "name": "ipython",
    "version": 3
   },
   "file_extension": ".py",
   "mimetype": "text/x-python",
   "name": "python",
   "nbconvert_exporter": "python",
   "pygments_lexer": "ipython3",
   "version": "3.9.15"
  },
  "toc": {
   "base_numbering": 1,
   "nav_menu": {},
   "number_sections": true,
   "sideBar": true,
   "skip_h1_title": false,
   "title_cell": "Table of Contents",
   "title_sidebar": "Contents",
   "toc_cell": false,
   "toc_position": {
    "height": "calc(100% - 180px)",
    "left": "10px",
    "top": "150px",
    "width": "222px"
   },
   "toc_section_display": true,
   "toc_window_display": true
  }
 },
 "nbformat": 4,
 "nbformat_minor": 5
}
