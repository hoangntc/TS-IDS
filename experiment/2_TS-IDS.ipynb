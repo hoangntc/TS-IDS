{
 "cells": [
  {
   "cell_type": "code",
   "execution_count": 1,
   "id": "94bb3daa",
   "metadata": {},
   "outputs": [
    {
     "name": "stdout",
     "output_type": "stream",
     "text": [
      "PROJ_PATH=/home/hoang/github/TS-IDS\n"
     ]
    }
   ],
   "source": [
    "%load_ext autoreload\n",
    "%autoreload 2\n",
    "\n",
    "import os, sys, re, datetime, random, gzip, json, copy\n",
    "import tqdm\n",
    "import pandas as pd\n",
    "import numpy as np\n",
    "import glob\n",
    "from pathlib import Path\n",
    "from itertools import accumulate\n",
    "import argparse\n",
    "from time import time\n",
    "from math import ceil\n",
    "from collections import Counter\n",
    "\n",
    "import torch\n",
    "import torch.nn as nn\n",
    "import torch.optim as optim\n",
    "import torch.nn.functional as F\n",
    "from torch.nn import Linear\n",
    "\n",
    "import pytorch_lightning as pl\n",
    "from pytorch_lightning.trainer.trainer import Trainer\n",
    "from pytorch_lightning.callbacks import ModelCheckpoint, EarlyStopping\n",
    "from pytorch_lightning.utilities.seed import seed_everything\n",
    "\n",
    "from torch_geometric.data import Data, LightningLinkData\n",
    "from torch_geometric.loader import DataLoader\n",
    "from torch_geometric.nn import Sequential, HeteroConv, GINConv, GCNConv, SAGEConv, GATConv, TransformerConv\n",
    "\n",
    "from sklearn.metrics import f1_score, accuracy_score, top_k_accuracy_score, roc_auc_score\n",
    "from sklearn.utils import class_weight\n",
    "\n",
    "PROJ_PATH = Path(os.path.join(re.sub(\"/TS-IDS.*$\", '', os.getcwd()), 'TS-IDS'))\n",
    "print(f'PROJ_PATH={PROJ_PATH}')\n",
    "sys.path.insert(1, str(PROJ_PATH))\n",
    "sys.path.insert(1, str(PROJ_PATH/'src'))\n",
    "import utils\n",
    "from utils import *\n",
    "from dataset import build_datamodule\n",
    "from trainer import build_trainer\n",
    "from model import TSIDS\n",
    "from pipeline import TSIDSPipeline"
   ]
  },
  {
   "cell_type": "code",
   "execution_count": 2,
   "id": "dc2f2159",
   "metadata": {},
   "outputs": [
    {
     "name": "stdout",
     "output_type": "stream",
     "text": [
      "nf_bot_binary\n",
      "torch.Size([77177, 8]) torch.Size([2, 600100]) torch.Size([600100, 8])\n",
      "tensor(False) tensor(False) tensor(False)\n",
      "[0 1]\n",
      "[21.6517535   0.51181935]\n",
      "Counter({1: 293121, 0: 6929})\n",
      "\n",
      "\n",
      "nf_bot_multi\n",
      "torch.Size([77177, 32]) torch.Size([2, 600100]) torch.Size([600100, 8])\n",
      "tensor(False) tensor(False) tensor(False)\n",
      "[0 1 2 3 4]\n",
      "[ 8.6607014   2.10465402  2.12086941  0.25499386 61.61190965]\n",
      "Counter({3: 235339, 1: 28513, 2: 28295, 0: 6929, 4: 974})\n",
      "\n",
      "\n",
      "nf_ton_binary\n",
      "torch.Size([169562, 8]) torch.Size([2, 1379274]) torch.Size([1379274, 8])\n",
      "tensor(False) tensor(False) tensor(False)\n",
      "[0 1]\n",
      "[2.55158762 0.62185685]\n",
      "Counter({1: 554499, 0: 135139})\n",
      "\n",
      "\n",
      "nf_ton_multi\n",
      "torch.Size([169562, 72]) torch.Size([2, 1379274]) torch.Size([1379274, 8])\n",
      "tensor(False) tensor(False) tensor(False)\n",
      "[0 1 2 3 4 5 6 7 8 9]\n",
      "[5.10317525e-01 8.01531846e+00 4.23311543e-01 7.82612347e+00\n",
      " 2.94324661e-01 1.08433648e+02 8.77558344e-01 8.51404938e+02\n",
      " 6.40272955e+00 1.38531598e+00]\n",
      "Counter({4: 234312, 2: 162915, 0: 135139, 6: 78586, 9: 49782, 8: 10771, 3: 8812, 1: 8604, 5: 636, 7: 81})\n",
      "\n",
      "\n"
     ]
    }
   ],
   "source": [
    "ds_names = ['nf_bot_binary', 'nf_bot_multi', 'nf_ton_binary', 'nf_ton_multi']\n",
    "for name in ds_names:\n",
    "    print(name)\n",
    "    ###\n",
    "    config_path = str(PROJ_PATH / f'src/config/{name}.json')\n",
    "    data_config = utils.read_json(config_path)\n",
    "    g_data = pd.read_pickle(\n",
    "        os.path.join(data_config['root'], data_config['ds_name']+'.pkl'))\n",
    "    x = torch.tensor(g_data['n_features'], dtype=torch.float)\n",
    "    edge_index = torch.tensor(g_data['edge_index'], dtype=torch.long)\n",
    "    edge_attr = torch.tensor(g_data['e_features'], dtype=torch.float)\n",
    "    y = torch.tensor(g_data['node_label'], dtype=torch.long)\n",
    "    input_train_edges = torch.tensor(g_data['edge_index'][:, np.where(g_data['tvt']=='train')[0]], dtype=torch.long)\n",
    "    input_train_labels = torch.tensor(g_data['edge_label'][np.where(g_data['tvt']=='train')[0]], dtype=torch.long)\n",
    "    input_val_edges = torch.tensor(g_data['edge_index'][:, np.where(g_data['tvt']=='val')[0]], dtype=torch.long)\n",
    "    input_val_labels = torch.tensor(g_data['edge_label'][np.where(g_data['tvt']=='val')[0]], dtype=torch.long)\n",
    "    input_test_edges = torch.tensor(g_data['edge_index'][:, np.where(g_data['tvt']=='test')[0]], dtype=torch.long)\n",
    "    input_test_labels = torch.tensor(g_data['edge_label'][np.where(g_data['tvt']=='test')[0]], dtype=torch.long)\n",
    "    ###\n",
    "    print(x.shape, edge_index.shape, edge_attr.shape)\n",
    "    print(torch.isnan(x).any(), torch.isnan(edge_index).any(), torch.isnan(edge_attr).any())\n",
    "    ###\n",
    "    classes = np.unique(input_train_labels)\n",
    "    y = input_train_labels.cpu().numpy()\n",
    "    class_weights = class_weight.compute_class_weight(\n",
    "        class_weight='balanced', classes=classes, y=y)\n",
    "    print(classes)\n",
    "    print(class_weights)\n",
    "    print(Counter(input_train_labels.cpu().numpy()))\n",
    "    print('\\n')"
   ]
  },
  {
   "cell_type": "code",
   "execution_count": 1,
   "id": "8e12ccd4",
   "metadata": {},
   "outputs": [],
   "source": [
    "# ds_names = ['nf_bot_binary', 'nf_bot_multi', 'nf_ton_binary', 'nf_ton_multi']\n",
    "# name = ds_names[0]\n",
    "# config_path = str(PROJ_PATH / f'src/config/{name}.json')\n",
    "# tsids = TSIDSPipeline(config_path=config_path)\n",
    "# data_module, model_module, trainer = tsids.initialize()\n",
    "# tsids.train(data_module, model_module, trainer)"
   ]
  },
  {
   "cell_type": "code",
   "execution_count": 4,
   "id": "152617c8",
   "metadata": {},
   "outputs": [
    {
     "data": {
      "text/plain": [
       "{'n_features': array([[-0.42454842, -0.42454842, -0.42454842, ..., -0.01798697,\n",
       "         -0.35426996, -0.6061237 ],\n",
       "        [-0.42454842, -0.42454842, -0.42454842, ..., -0.01798697,\n",
       "         -0.35426996, -0.6061237 ],\n",
       "        [-0.42454842, -0.42454842, -0.42454842, ..., -0.01798697,\n",
       "         -0.35426996, -0.6061237 ],\n",
       "        ...,\n",
       "        [-0.43361206, -0.43361206, -0.43361206, ..., -0.01798697,\n",
       "         -0.35426996, -0.6061237 ],\n",
       "        [-0.43344499, -0.43344499, -0.43344499, ..., -0.01798697,\n",
       "         -0.35426996, -0.6061237 ],\n",
       "        [-0.43369559, -0.43369559, -0.43369559, ..., -0.01798697,\n",
       "         -0.35426996, -0.6061237 ]]),\n",
       " 'e_features': array([[-0.05243373, -0.00737229, -0.00544518, ..., -0.00621386,\n",
       "          0.3048566 , -2.37758476],\n",
       "        [-0.0551884 , -0.00805565, -0.00576938, ..., -0.00680971,\n",
       "         -2.77156946, -1.14868915],\n",
       "        [-0.0551884 , -0.00805565, -0.00576938, ..., -0.00680971,\n",
       "         -2.77156946, -1.14868915],\n",
       "        ...,\n",
       "        [ 0.02615441, -0.0071696 , -0.00479679, ..., -0.00502215,\n",
       "          0.3048566 ,  0.46530167],\n",
       "        [ 0.0294398 , -0.0071696 , -0.00479679, ..., -0.00502215,\n",
       "          0.3048566 ,  0.46530167],\n",
       "        [ 0.03313797, -0.0071696 , -0.00479679, ..., -0.00502215,\n",
       "          0.3048566 ,  0.46530167]]),\n",
       " 'edge_index': array([[ 52185, 167014, 167018, ...,  94061,  94062,  94063],\n",
       "        [169274,  58185, 169150, ...,  39676,  39676,  39676]]),\n",
       " 'edge_label': array([0, 0, 0, ..., 2, 2, 2]),\n",
       " 'node_label': array([1, 0, 0, ..., 0, 0, 0]),\n",
       " 'tvt': array(['train', 'train', 'train', ..., 'val', 'train', 'test'],\n",
       "       dtype=object),\n",
       " 'label2idx': {'Benign': 0,\n",
       "  'backdoor': 1,\n",
       "  'ddos': 2,\n",
       "  'dos': 3,\n",
       "  'injection': 4,\n",
       "  'mitm': 5,\n",
       "  'password': 6,\n",
       "  'ransomware': 7,\n",
       "  'scanning': 8,\n",
       "  'xss': 9}}"
      ]
     },
     "execution_count": 4,
     "metadata": {},
     "output_type": "execute_result"
    }
   ],
   "source": [
    "g_data"
   ]
  },
  {
   "cell_type": "code",
   "execution_count": 10,
   "id": "4f61a572",
   "metadata": {},
   "outputs": [
    {
     "name": "stderr",
     "output_type": "stream",
     "text": [
      "Global seed set to 2022\n"
     ]
    },
    {
     "name": "stdout",
     "output_type": "stream",
     "text": [
      "x: torch.Size([169562, 8])\n",
      "edge_index: torch.Size([2, 1379274])\n",
      "edge_attr: torch.Size([1379274, 8])\n",
      "y: torch.Size([169562])\n",
      "input_train_edges: torch.Size([2, 689638])\n",
      "input_val_edges: torch.Size([2, 275854])\n",
      "input_test_edges: torch.Size([2, 413782])\n",
      "input_train_labels: torch.Size([689638])\n",
      "input_val_labels: torch.Size([275854])\n",
      "input_test_labels: torch.Size([413782])\n"
     ]
    },
    {
     "name": "stderr",
     "output_type": "stream",
     "text": [
      "GPU available: True (cuda), used: True\n",
      "TPU available: False, using: 0 TPU cores\n",
      "IPU available: False, using: 0 IPUs\n",
      "HPU available: False, using: 0 HPUs\n"
     ]
    }
   ],
   "source": [
    "config = utils.read_json('../src/config/nf_ton_binary.json')\n",
    "tsids = TSIDSPipeline(config_dict=config)\n",
    "data_module, model_module, trainer = tsids.initialize()"
   ]
  },
  {
   "cell_type": "code",
   "execution_count": 11,
   "id": "e2e90199",
   "metadata": {},
   "outputs": [],
   "source": [
    "for batch in data_module.train_dataloader():\n",
    "    break"
   ]
  },
  {
   "cell_type": "code",
   "execution_count": 12,
   "id": "2472537b",
   "metadata": {},
   "outputs": [
    {
     "data": {
      "text/plain": [
       "Data(x=[33491, 8], edge_index=[2, 76336], edge_attr=[76336, 8], y=[33491], edge_label_index=[2, 32768], edge_label=[32768])"
      ]
     },
     "execution_count": 12,
     "metadata": {},
     "output_type": "execute_result"
    }
   ],
   "source": [
    "batch"
   ]
  },
  {
   "cell_type": "code",
   "execution_count": null,
   "id": "bed7f8f9",
   "metadata": {},
   "outputs": [],
   "source": [
    "https://stackoverflow.com/questions/59705001/torch-find-indices-of-matching-rows-in-2-2d-tensors"
   ]
  },
  {
   "cell_type": "code",
   "execution_count": 36,
   "id": "2df15280",
   "metadata": {},
   "outputs": [
    {
     "ename": "TypeError",
     "evalue": "invalid type promotion",
     "output_type": "error",
     "traceback": [
      "\u001b[0;31m---------------------------------------------------------------------------\u001b[0m",
      "\u001b[0;31mTypeError\u001b[0m                                 Traceback (most recent call last)",
      "Cell \u001b[0;32mIn [36], line 7\u001b[0m\n\u001b[1;32m      5\u001b[0m arr1_view \u001b[38;5;241m=\u001b[39m arr1\u001b[38;5;241m.\u001b[39mview([(\u001b[38;5;124m'\u001b[39m\u001b[38;5;124m'\u001b[39m, arr1\u001b[38;5;241m.\u001b[39mdtype)] \u001b[38;5;241m*\u001b[39m arr1\u001b[38;5;241m.\u001b[39mshape[\u001b[38;5;241m1\u001b[39m])\n\u001b[1;32m      6\u001b[0m arr2_view \u001b[38;5;241m=\u001b[39m arr2\u001b[38;5;241m.\u001b[39mview([(\u001b[38;5;124m'\u001b[39m\u001b[38;5;124m'\u001b[39m, arr2\u001b[38;5;241m.\u001b[39mdtype)] \u001b[38;5;241m*\u001b[39m arr2\u001b[38;5;241m.\u001b[39mshape[\u001b[38;5;241m1\u001b[39m])\n\u001b[0;32m----> 7\u001b[0m intersected \u001b[38;5;241m=\u001b[39m \u001b[43mnp\u001b[49m\u001b[38;5;241;43m.\u001b[39;49m\u001b[43mintersect1d\u001b[49m\u001b[43m(\u001b[49m\u001b[43marr1_view\u001b[49m\u001b[43m,\u001b[49m\u001b[43m \u001b[49m\u001b[43marr2_view\u001b[49m\u001b[43m,\u001b[49m\u001b[43m \u001b[49m\u001b[43mreturn_indices\u001b[49m\u001b[38;5;241;43m=\u001b[39;49m\u001b[38;5;28;43;01mTrue\u001b[39;49;00m\u001b[43m)\u001b[49m\n",
      "File \u001b[0;32m<__array_function__ internals>:180\u001b[0m, in \u001b[0;36mintersect1d\u001b[0;34m(*args, **kwargs)\u001b[0m\n",
      "File \u001b[0;32m~/miniconda2/envs/iot/lib/python3.9/site-packages/numpy/lib/arraysetops.py:450\u001b[0m, in \u001b[0;36mintersect1d\u001b[0;34m(ar1, ar2, assume_unique, return_indices)\u001b[0m\n\u001b[1;32m    447\u001b[0m     ar1 \u001b[38;5;241m=\u001b[39m ar1\u001b[38;5;241m.\u001b[39mravel()\n\u001b[1;32m    448\u001b[0m     ar2 \u001b[38;5;241m=\u001b[39m ar2\u001b[38;5;241m.\u001b[39mravel()\n\u001b[0;32m--> 450\u001b[0m aux \u001b[38;5;241m=\u001b[39m \u001b[43mnp\u001b[49m\u001b[38;5;241;43m.\u001b[39;49m\u001b[43mconcatenate\u001b[49m\u001b[43m(\u001b[49m\u001b[43m(\u001b[49m\u001b[43mar1\u001b[49m\u001b[43m,\u001b[49m\u001b[43m \u001b[49m\u001b[43mar2\u001b[49m\u001b[43m)\u001b[49m\u001b[43m)\u001b[49m\n\u001b[1;32m    451\u001b[0m \u001b[38;5;28;01mif\u001b[39;00m return_indices:\n\u001b[1;32m    452\u001b[0m     aux_sort_indices \u001b[38;5;241m=\u001b[39m np\u001b[38;5;241m.\u001b[39margsort(aux, kind\u001b[38;5;241m=\u001b[39m\u001b[38;5;124m'\u001b[39m\u001b[38;5;124mmergesort\u001b[39m\u001b[38;5;124m'\u001b[39m)\n",
      "File \u001b[0;32m<__array_function__ internals>:180\u001b[0m, in \u001b[0;36mconcatenate\u001b[0;34m(*args, **kwargs)\u001b[0m\n",
      "File \u001b[0;32m~/miniconda2/envs/iot/lib/python3.9/site-packages/numpy/core/_internal.py:458\u001b[0m, in \u001b[0;36m_promote_fields\u001b[0;34m(dt1, dt2)\u001b[0m\n\u001b[1;32m    456\u001b[0m \u001b[38;5;66;03m# Both must be structured and have the same names in the same order\u001b[39;00m\n\u001b[1;32m    457\u001b[0m \u001b[38;5;28;01mif\u001b[39;00m (dt1\u001b[38;5;241m.\u001b[39mnames \u001b[38;5;129;01mis\u001b[39;00m \u001b[38;5;28;01mNone\u001b[39;00m \u001b[38;5;129;01mor\u001b[39;00m dt2\u001b[38;5;241m.\u001b[39mnames \u001b[38;5;129;01mis\u001b[39;00m \u001b[38;5;28;01mNone\u001b[39;00m) \u001b[38;5;129;01mor\u001b[39;00m dt1\u001b[38;5;241m.\u001b[39mnames \u001b[38;5;241m!=\u001b[39m dt2\u001b[38;5;241m.\u001b[39mnames:\n\u001b[0;32m--> 458\u001b[0m     \u001b[38;5;28;01mraise\u001b[39;00m \u001b[38;5;167;01mTypeError\u001b[39;00m(\u001b[38;5;124m\"\u001b[39m\u001b[38;5;124minvalid type promotion\u001b[39m\u001b[38;5;124m\"\u001b[39m)\n\u001b[1;32m    460\u001b[0m \u001b[38;5;66;03m# if both are identical, we can (maybe!) just return the same dtype.\u001b[39;00m\n\u001b[1;32m    461\u001b[0m identical \u001b[38;5;241m=\u001b[39m dt1 \u001b[38;5;129;01mis\u001b[39;00m dt2\n",
      "\u001b[0;31mTypeError\u001b[0m: invalid type promotion"
     ]
    }
   ],
   "source": [
    "edge_index_dense = batch.edge_index\n",
    "edge_index2_dense = batch.edge_label_index\n",
    "arr1 = edge_index_dense.numpy().view(np.int32)\n",
    "arr2 = edge_index2_dense.numpy().view(np.int32)\n",
    "arr1_view = arr1.view([('', arr1.dtype)] * arr1.shape[1])\n",
    "arr2_view = arr2.view([('', arr2.dtype)] * arr2.shape[1])\n",
    "intersected = np.intersect1d(arr1_view, arr2_view, return_indices=True)"
   ]
  },
  {
   "cell_type": "code",
   "execution_count": 22,
   "id": "52d99f3c",
   "metadata": {},
   "outputs": [
    {
     "data": {
      "text/plain": [
       "tensor([[ 1.0524e+00, -7.3086e-03, -5.1210e-03,  ..., -6.8097e-03,\n",
       "         -7.2393e+00, -1.1487e+00],\n",
       "        [ 1.9480e+01, -1.8881e-03, -1.8790e-03,  ..., -6.8097e-03,\n",
       "         -7.2393e+00, -1.1487e+00],\n",
       "        [-5.5188e-02, -7.6792e-03, -5.4452e-03,  ..., -6.8097e-03,\n",
       "         -7.2393e+00, -1.1487e+00],\n",
       "        ...,\n",
       "        [ 2.0601e-01,  1.7559e-01,  6.0367e-02,  ..., -6.8097e-03,\n",
       "          3.0486e-01, -5.8427e-01],\n",
       "        [-3.7304e-02,  1.0158e-02,  1.6600e-02,  ..., -6.8097e-03,\n",
       "          3.0486e-01,  6.5093e-01],\n",
       "        [-5.5188e-02, -8.1888e-03, -5.7694e-03,  ..., -6.2139e-03,\n",
       "          3.0486e-01,  6.0939e-01]])"
      ]
     },
     "execution_count": 22,
     "metadata": {},
     "output_type": "execute_result"
    }
   ],
   "source": [
    "batch.edge_attr"
   ]
  },
  {
   "cell_type": "code",
   "execution_count": 20,
   "id": "0c3af23d",
   "metadata": {},
   "outputs": [
    {
     "data": {
      "text/plain": [
       "tensor([[18627, 23021, 12467,  ..., 21775, 13484, 21926],\n",
       "        [  799,  2186,   103,  ..., 26788,   103,   103]])"
      ]
     },
     "execution_count": 20,
     "metadata": {},
     "output_type": "execute_result"
    }
   ],
   "source": [
    "batch.edge_label_index"
   ]
  },
  {
   "cell_type": "code",
   "execution_count": 21,
   "id": "20c91fbc",
   "metadata": {},
   "outputs": [
    {
     "data": {
      "text/plain": [
       "tensor([[ 52185, 167014, 167018,  ...,  94061,  94062,  94063],\n",
       "        [169274,  58185, 169150,  ...,  39676,  39676,  39676]])"
      ]
     },
     "execution_count": 21,
     "metadata": {},
     "output_type": "execute_result"
    }
   ],
   "source": [
    "edge_index"
   ]
  },
  {
   "cell_type": "code",
   "execution_count": 28,
   "id": "029e60bf",
   "metadata": {},
   "outputs": [
    {
     "data": {
      "text/plain": [
       "1379274"
      ]
     },
     "execution_count": 28,
     "metadata": {},
     "output_type": "execute_result"
    }
   ],
   "source": [
    "len(edge_index[0])"
   ]
  },
  {
   "cell_type": "code",
   "execution_count": 29,
   "id": "35132a46",
   "metadata": {},
   "outputs": [],
   "source": [
    "l = len(edge_index[0])\n",
    "tuple_to_idx = {}\n",
    "for i, (s, d) in enumerate(zip(edge_index[0], edge_index[1])):\n",
    "    tuple_to_idx[(s, d)] = i"
   ]
  },
  {
   "cell_type": "code",
   "execution_count": 31,
   "id": "3100698b",
   "metadata": {},
   "outputs": [
    {
     "data": {
      "text/plain": [
       "1379274"
      ]
     },
     "execution_count": 31,
     "metadata": {},
     "output_type": "execute_result"
    }
   ],
   "source": [
    "len(tuple_to_idx.keys())"
   ]
  },
  {
   "cell_type": "code",
   "execution_count": null,
   "id": "4be70387",
   "metadata": {},
   "outputs": [],
   "source": [
    "for (s, d) in zip(batch.edge_label_index[0], batch.edge_label_index[1]):\n",
    "    "
   ]
  }
 ],
 "metadata": {
  "kernelspec": {
   "display_name": "Python 3 (ipykernel)",
   "language": "python",
   "name": "python3"
  },
  "language_info": {
   "codemirror_mode": {
    "name": "ipython",
    "version": 3
   },
   "file_extension": ".py",
   "mimetype": "text/x-python",
   "name": "python",
   "nbconvert_exporter": "python",
   "pygments_lexer": "ipython3",
   "version": "3.9.15"
  },
  "toc": {
   "base_numbering": 1,
   "nav_menu": {},
   "number_sections": true,
   "sideBar": true,
   "skip_h1_title": false,
   "title_cell": "Table of Contents",
   "title_sidebar": "Contents",
   "toc_cell": false,
   "toc_position": {
    "height": "calc(100% - 180px)",
    "left": "10px",
    "top": "150px",
    "width": "222px"
   },
   "toc_section_display": true,
   "toc_window_display": true
  }
 },
 "nbformat": 4,
 "nbformat_minor": 5
}
